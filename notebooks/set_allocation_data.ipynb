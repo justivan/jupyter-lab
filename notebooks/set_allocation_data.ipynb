{
 "cells": [
  {
   "cell_type": "code",
   "execution_count": 1,
   "id": "1ece8356-ed6a-4569-a5ca-46e8f2a917fe",
   "metadata": {},
   "outputs": [
    {
     "name": "stderr",
     "output_type": "stream",
     "text": [
      "/home/jovyan/work/db.py:8: SAWarning: Did not recognize type 'geometry' of column 'geom'\n",
      "  mapping_hotel = Table(\n"
     ]
    }
   ],
   "source": [
    "import json\n",
    "\n",
    "import pandas as pd\n",
    "from db import *"
   ]
  },
  {
   "cell_type": "code",
   "execution_count": 2,
   "id": "01200fb4-8d36-4243-b5a2-f046e2fd0b28",
   "metadata": {},
   "outputs": [],
   "source": [
    "reports_room_inventory = Table(\"reports_room_inventory\", metadata, autoload_with=engine)"
   ]
  },
  {
   "cell_type": "code",
   "execution_count": null,
   "id": "6a7d12ad-dd23-45ad-ab26-81e9c5e70324",
   "metadata": {},
   "outputs": [],
   "source": [
    "from datetime import date, timedelta\n",
    "\n",
    "# Define the start and end dates\n",
    "start_date = date(2023, 10, 1)\n",
    "end_date = date(2023, 10, 31)\n",
    "\n",
    "# Create a list of dates between the start and end dates\n",
    "date_list = [\n",
    "    start_date + timedelta(days=x) for x in range((end_date - start_date).days + 1)\n",
    "]\n",
    "\n",
    "# Create a DataFrame with the date column\n",
    "df = pd.DataFrame({\"date\": date_list})\n",
    "df[\"room_id\"] = 3179\n",
    "df[\"quantity\"] = 5\n",
    "df[\"basis\"] = \"allocation\"\n",
    "df[\"charter\"] = False\n",
    "df[\"allocation_group_id\"] = 5\n",
    "df[\"top_up\"] = 0\n",
    "df[\"stop_sale_protected\"] = False\n",
    "df[\"protected_rooms\"] = 0\n",
    "\n",
    "from sqlalchemy.dialects.postgresql import insert\n",
    "\n",
    "stmt = insert(reports_room_inventory).values(df.to_dict(orient=\"records\"))\n",
    "\n",
    "with Session(engine) as session:\n",
    "    session.execute(stmt)\n",
    "    session.commit()"
   ]
  },
  {
   "cell_type": "code",
   "execution_count": null,
   "id": "d03adad2-730a-410b-a137-c21328bbcf87",
   "metadata": {},
   "outputs": [],
   "source": [
    "from sqlalchemy import update\n",
    "\n",
    "stmt = (\n",
    "    update(reports_room_inventory)\n",
    "    .where(reports_room_inventory.c.room_id == 3183)\n",
    "    .values(quantity=0)\n",
    ")\n",
    "\n",
    "with Session(engine) as session:\n",
    "    session.execute(stmt)\n",
    "    session.commit()"
   ]
  },
  {
   "cell_type": "code",
   "execution_count": null,
   "id": "bac9d585-a5d2-45c7-baf9-5a75b9c6cd6a",
   "metadata": {},
   "outputs": [],
   "source": [
    "fanar_topup = pd.read_excel(\"fanar_topup.xlsx\", parse_dates=[\"date\"])\n",
    "fanar_topup.shape"
   ]
  },
  {
   "cell_type": "code",
   "execution_count": null,
   "id": "ac3ccbc3-8410-4541-9772-15f370b7b2c1",
   "metadata": {},
   "outputs": [],
   "source": [
    "salalah_topup = pd.read_excel(\"salalah_topup.xlsx\", parse_dates=[\"date\"])\n",
    "salalah_topup.shape"
   ]
  },
  {
   "cell_type": "code",
   "execution_count": null,
   "id": "6875ea74-a04b-4fbf-8aec-811422ccf7a3",
   "metadata": {},
   "outputs": [],
   "source": [
    "salalah_classic = 3381\n",
    "fanar_deluxe = 3180\n",
    "\n",
    "stmt = (\n",
    "    update(reports_room_inventory)\n",
    "    .where(\n",
    "        reports_room_inventory.c.room_id == 3180,\n",
    "        reports_room_inventory.c.allocation_group_id\n",
    "        == 5,\n",
    "    )\n",
    "    .values(basis=\"allocation\")\n",
    ")\n",
    "\n",
    "with Session(engine) as session:\n",
    "    session.execute(stmt)\n",
    "    session.commit()"
   ]
  },
  {
   "cell_type": "code",
   "execution_count": 3,
   "id": "6e494adc-a566-489e-9d28-e37c1187ddb7",
   "metadata": {},
   "outputs": [
    {
     "data": {
      "text/html": [
       "<div>\n",
       "<style scoped>\n",
       "    .dataframe tbody tr th:only-of-type {\n",
       "        vertical-align: middle;\n",
       "    }\n",
       "\n",
       "    .dataframe tbody tr th {\n",
       "        vertical-align: top;\n",
       "    }\n",
       "\n",
       "    .dataframe thead th {\n",
       "        text-align: right;\n",
       "    }\n",
       "</style>\n",
       "<table border=\"1\" class=\"dataframe\">\n",
       "  <thead>\n",
       "    <tr style=\"text-align: right;\">\n",
       "      <th></th>\n",
       "      <th>date</th>\n",
       "      <th>topup</th>\n",
       "      <th>room_id</th>\n",
       "      <th>allocation_group_id</th>\n",
       "    </tr>\n",
       "  </thead>\n",
       "  <tbody>\n",
       "    <tr>\n",
       "      <th>0</th>\n",
       "      <td>2023-12-01</td>\n",
       "      <td>5</td>\n",
       "      <td>3381</td>\n",
       "      <td>1</td>\n",
       "    </tr>\n",
       "    <tr>\n",
       "      <th>1</th>\n",
       "      <td>2023-12-03</td>\n",
       "      <td>5</td>\n",
       "      <td>3381</td>\n",
       "      <td>1</td>\n",
       "    </tr>\n",
       "    <tr>\n",
       "      <th>2</th>\n",
       "      <td>2023-12-04</td>\n",
       "      <td>5</td>\n",
       "      <td>3381</td>\n",
       "      <td>1</td>\n",
       "    </tr>\n",
       "    <tr>\n",
       "      <th>3</th>\n",
       "      <td>2023-12-05</td>\n",
       "      <td>5</td>\n",
       "      <td>3381</td>\n",
       "      <td>1</td>\n",
       "    </tr>\n",
       "    <tr>\n",
       "      <th>4</th>\n",
       "      <td>2023-12-06</td>\n",
       "      <td>5</td>\n",
       "      <td>3381</td>\n",
       "      <td>1</td>\n",
       "    </tr>\n",
       "  </tbody>\n",
       "</table>\n",
       "</div>"
      ],
      "text/plain": [
       "        date  topup  room_id  allocation_group_id\n",
       "0 2023-12-01      5     3381                    1\n",
       "1 2023-12-03      5     3381                    1\n",
       "2 2023-12-04      5     3381                    1\n",
       "3 2023-12-05      5     3381                    1\n",
       "4 2023-12-06      5     3381                    1"
      ]
     },
     "execution_count": 3,
     "metadata": {},
     "output_type": "execute_result"
    }
   ],
   "source": [
    "topup_data = pd.read_excel(\"topup.xlsx\", parse_dates=[\"date\"])\n",
    "topup_data.head()"
   ]
  },
  {
   "cell_type": "code",
   "execution_count": 4,
   "id": "feb8685c-def2-4a39-babb-f5deef88a94c",
   "metadata": {},
   "outputs": [
    {
     "name": "stdout",
     "output_type": "stream",
     "text": [
      "date \t topup \t result \t new_result\n",
      "2023-12-01 00:00:00 \t 5 \t 0 \t 5\n",
      "2023-12-03 00:00:00 \t 5 \t 0 \t 5\n",
      "2023-12-04 00:00:00 \t 5 \t 0 \t 5\n",
      "2023-12-05 00:00:00 \t 5 \t 3 \t 8\n",
      "2023-12-06 00:00:00 \t 5 \t 3 \t 8\n",
      "2023-12-07 00:00:00 \t 5 \t 3 \t 8\n",
      "2023-12-08 00:00:00 \t 5 \t 3 \t 8\n",
      "2023-12-09 00:00:00 \t 5 \t 3 \t 8\n",
      "2023-12-10 00:00:00 \t 5 \t 0 \t 5\n",
      "2023-12-11 00:00:00 \t 5 \t 0 \t 5\n",
      "2023-12-12 00:00:00 \t 5 \t 0 \t 5\n",
      "2023-12-24 00:00:00 \t 5 \t 0 \t 5\n",
      "2023-12-25 00:00:00 \t 5 \t 0 \t 5\n",
      "2023-12-28 00:00:00 \t 5 \t 0 \t 5\n",
      "2023-12-31 00:00:00 \t 5 \t 0 \t 5\n",
      "2024-01-01 00:00:00 \t 5 \t 0 \t 5\n",
      "2024-01-02 00:00:00 \t 5 \t 0 \t 5\n",
      "2024-01-03 00:00:00 \t 5 \t 0 \t 5\n",
      "2024-01-04 00:00:00 \t 5 \t 0 \t 5\n",
      "2024-01-05 00:00:00 \t 5 \t 0 \t 5\n",
      "2024-01-06 00:00:00 \t 5 \t 0 \t 5\n",
      "2024-01-07 00:00:00 \t 5 \t 0 \t 5\n",
      "2024-01-08 00:00:00 \t 5 \t 0 \t 5\n",
      "2024-01-09 00:00:00 \t 5 \t 0 \t 5\n",
      "2024-01-10 00:00:00 \t 5 \t 0 \t 5\n",
      "2024-01-11 00:00:00 \t 5 \t 2 \t 7\n",
      "2024-01-12 00:00:00 \t 5 \t 2 \t 7\n",
      "2024-01-13 00:00:00 \t 5 \t 2 \t 7\n",
      "2024-01-14 00:00:00 \t 5 \t 2 \t 7\n",
      "2024-01-15 00:00:00 \t 5 \t 0 \t 5\n",
      "2024-01-16 00:00:00 \t 5 \t 0 \t 5\n",
      "2024-01-17 00:00:00 \t 5 \t 0 \t 5\n",
      "2024-01-18 00:00:00 \t 5 \t 0 \t 5\n",
      "2024-01-19 00:00:00 \t 5 \t 0 \t 5\n",
      "2024-01-20 00:00:00 \t 5 \t 0 \t 5\n",
      "2024-01-21 00:00:00 \t 5 \t 0 \t 5\n",
      "2024-01-22 00:00:00 \t 5 \t 0 \t 5\n",
      "2024-01-23 00:00:00 \t 5 \t 0 \t 5\n",
      "2024-01-25 00:00:00 \t 5 \t 0 \t 5\n",
      "2024-01-26 00:00:00 \t 5 \t 0 \t 5\n",
      "2024-01-27 00:00:00 \t 5 \t 0 \t 5\n",
      "2024-01-28 00:00:00 \t 5 \t 0 \t 5\n",
      "2024-01-29 00:00:00 \t 5 \t 0 \t 5\n",
      "2024-01-30 00:00:00 \t 5 \t 0 \t 5\n",
      "2024-02-08 00:00:00 \t 5 \t 0 \t 5\n",
      "2024-02-09 00:00:00 \t 5 \t 0 \t 5\n",
      "2024-02-10 00:00:00 \t 5 \t 0 \t 5\n",
      "2024-02-11 00:00:00 \t 5 \t 0 \t 5\n",
      "2024-02-12 00:00:00 \t 5 \t 0 \t 5\n",
      "2024-02-13 00:00:00 \t 5 \t 0 \t 5\n",
      "2024-02-15 00:00:00 \t 5 \t 0 \t 5\n",
      "2024-02-16 00:00:00 \t 5 \t 0 \t 5\n",
      "2024-02-17 00:00:00 \t 5 \t 0 \t 5\n",
      "2024-02-18 00:00:00 \t 5 \t 0 \t 5\n",
      "2024-02-19 00:00:00 \t 5 \t 0 \t 5\n",
      "2024-02-20 00:00:00 \t 5 \t 0 \t 5\n"
     ]
    }
   ],
   "source": [
    "from sqlalchemy import update\n",
    "\n",
    "# add rooms to existing top up\n",
    "print(\"date\", \"\\t\", \"topup\", \"\\t\", \"result\", \"\\t\", \"new_result\")\n",
    "for row in topup_data.to_dict(orient=\"records\"):\n",
    "    select_room = select(reports_room_inventory.c.top_up).where(\n",
    "        reports_room_inventory.c.room_id == row[\"room_id\"],\n",
    "        reports_room_inventory.c.date == row[\"date\"],\n",
    "        reports_room_inventory.c.allocation_group_id == row[\"allocation_group_id\"],\n",
    "    )\n",
    "\n",
    "    with Session(engine) as session:\n",
    "        result = session.scalar(select_room)\n",
    "\n",
    "        stmt = (\n",
    "            update(reports_room_inventory)\n",
    "            .where(\n",
    "                reports_room_inventory.c.room_id == row[\"room_id\"],\n",
    "                reports_room_inventory.c.date == row[\"date\"],\n",
    "                reports_room_inventory.c.allocation_group_id\n",
    "                == row[\"allocation_group_id\"],\n",
    "            )\n",
    "            .values(top_up=row[\"topup\"] + result)\n",
    "        )\n",
    "        session.execute(stmt)\n",
    "        session.commit()\n",
    "        new_result = session.scalar(select_room)\n",
    "\n",
    "        print(row[\"date\"], \"\\t\", row[\"topup\"], \"\\t\", result, \"\\t\", new_result)"
   ]
  },
  {
   "cell_type": "code",
   "execution_count": null,
   "id": "73d09238-5d8c-4c17-b531-98cd2a98e657",
   "metadata": {},
   "outputs": [],
   "source": [
    "allocation_update = pd.read_excel(\"allocation_data.xlsx\", parse_dates=[\"date\"])\n",
    "allocation_update.head()"
   ]
  },
  {
   "cell_type": "code",
   "execution_count": null,
   "id": "4b6d7628-bf8f-4d84-9a3b-fe685fc00a03",
   "metadata": {},
   "outputs": [],
   "source": [
    "for row in allocation_update.to_dict(orient=\"records\"):\n",
    "    select_room = select(reports_room_inventory.c.quantity).where(\n",
    "        reports_room_inventory.c.room_id == row[\"room_id\"],\n",
    "        reports_room_inventory.c.date == row[\"date\"],\n",
    "        reports_room_inventory.c.allocation_group_id == row[\"allocation_group_id\"],\n",
    "    )\n",
    "\n",
    "    with Session(engine) as session:\n",
    "        result = session.scalar(select_room)\n",
    "\n",
    "        stmt = (\n",
    "            update(reports_room_inventory)\n",
    "            .where(\n",
    "                reports_room_inventory.c.room_id == row[\"room_id\"],\n",
    "                reports_room_inventory.c.date == row[\"date\"],\n",
    "                reports_room_inventory.c.allocation_group_id\n",
    "                == row[\"allocation_group_id\"],\n",
    "            )\n",
    "            .values(quantity=row[\"quantity\"] + result)\n",
    "        )\n",
    "        session.execute(stmt)\n",
    "        session.commit()\n",
    "        new_result = session.scalar(select_room)\n",
    "\n",
    "        print(row[\"date\"], \"\\t\", row[\"quantity\"], \"\\t\", result, \"\\t\", new_result)"
   ]
  },
  {
   "cell_type": "code",
   "execution_count": null,
   "id": "8227384b-3b08-45ff-93a5-3ab7c7648a4f",
   "metadata": {},
   "outputs": [],
   "source": []
  }
 ],
 "metadata": {
  "kernelspec": {
   "display_name": "Python 3 (ipykernel)",
   "language": "python",
   "name": "python3"
  },
  "language_info": {
   "codemirror_mode": {
    "name": "ipython",
    "version": 3
   },
   "file_extension": ".py",
   "mimetype": "text/x-python",
   "name": "python",
   "nbconvert_exporter": "python",
   "pygments_lexer": "ipython3",
   "version": "3.11.4"
  }
 },
 "nbformat": 4,
 "nbformat_minor": 5
}
