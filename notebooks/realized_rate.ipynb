{
 "cells": [
  {
   "cell_type": "code",
   "execution_count": 1,
   "id": "7085a3be-8890-4693-84b1-74e5620759e0",
   "metadata": {},
   "outputs": [
    {
     "name": "stderr",
     "output_type": "stream",
     "text": [
      "/home/jovyan/work/db.py:8: SAWarning: Did not recognize type 'geometry' of column 'geom'\n",
      "  mapping_hotel = Table(\n"
     ]
    }
   ],
   "source": [
    "from pathlib import Path\n",
    "\n",
    "import numpy as np\n",
    "import pandas as pd\n",
    "from db import *\n",
    "from psycopg2.errors import ForeignKeyViolation, UniqueViolation\n",
    "from sklearn.pipeline import Pipeline\n",
    "from sqlalchemy import delete, exc\n",
    "from sqlalchemy.dialects.postgresql import insert\n",
    "from sqlalchemy.orm import Session\n",
    "from ssrs import BookingData\n",
    "from transformers import BookingDataEncoder, BookingDataReadCsv"
   ]
  },
  {
   "cell_type": "code",
   "execution_count": 2,
   "id": "df9cfa2a-0eaa-4af2-877c-cd51eff25fcc",
   "metadata": {},
   "outputs": [],
   "source": [
    "hotels = pd.read_sql(\n",
    "    sql=select(\n",
    "        mapping_hotel.c.id,\n",
    "        mapping_hotel.c.hotel_id,\n",
    "        mapping_hotel.c.is_charter,\n",
    "    ),\n",
    "    con=engine.connect(),\n",
    ").set_index(\"id\")\n",
    "\n",
    "rooms = pd.read_sql(\n",
    "    sql=select(\n",
    "        accommodation_hotel_room.c.id,\n",
    "        accommodation_hotel_room.c.hotel_id,\n",
    "        accommodation_hotel_room.c.name,\n",
    "        mapping_hotel_room.c.room_code,\n",
    "        mapping_hotel_room.c.room_type,\n",
    "    ).join_from(mapping_hotel_room, accommodation_hotel_room),\n",
    "    con=engine.connect(),\n",
    ")\n",
    "\n",
    "meals = pd.read_sql(\n",
    "    sql=select(\n",
    "        definitions_meal_plan.c.id.label(\"meal_id\"),\n",
    "        definitions_meal_plan.c.code,\n",
    "    ),\n",
    "    con=engine.connect(),\n",
    ").set_index(\"code\")\n",
    "\n",
    "operators = pd.read_sql(\n",
    "    sql=select(\n",
    "        mapping_operator.c.operator_id,\n",
    "        mapping_operator.c.external_id,\n",
    "    ),\n",
    "    con=engine.connect(),\n",
    ").set_index(\"external_id\")"
   ]
  },
  {
   "cell_type": "code",
   "execution_count": 3,
   "id": "e54fe37f-ca07-4173-b9a1-c2eed03a81a6",
   "metadata": {},
   "outputs": [],
   "source": [
    "pipeline = Pipeline(\n",
    "    [\n",
    "        (\"csv_reader\", BookingDataReadCsv()),\n",
    "        # (\"data_encoder\", BookingDataEncoder(hotels, rooms, meals, operators)),\n",
    "    ]\n",
    ")"
   ]
  },
  {
   "cell_type": "code",
   "execution_count": 4,
   "id": "19d04112-6a47-48a2-8654-36ef76902665",
   "metadata": {},
   "outputs": [],
   "source": [
    "for destination in [\"DU\"]:\n",
    "    booking_data = BookingData(\n",
    "        destination, \"11/01/2022 00:00:00\", \"10/31/2023 00:00:00\"\n",
    "    )\n",
    "    get_bookings = booking_data.get()\n",
    "\n",
    "    if get_bookings is not None:\n",
    "        df = pipeline.fit_transform(get_bookings)"
   ]
  },
  {
   "cell_type": "code",
   "execution_count": 5,
   "id": "7dd9ed20-43b3-40c9-9f76-910a53bc47c7",
   "metadata": {},
   "outputs": [],
   "source": [
    "base_dir = Path(\".\").resolve()\n",
    "\n",
    "top_hotel = pd.read_csv(base_dir / \"data\" / \"top_hotels_rr.csv\")"
   ]
  },
  {
   "cell_type": "code",
   "execution_count": 6,
   "id": "607c3ba1-ceea-4622-b515-0c4ffa2d0845",
   "metadata": {},
   "outputs": [],
   "source": [
    "df = df[df[\"hotel_id\"].isin(top_hotel[\"HotelID\"])]"
   ]
  },
  {
   "cell_type": "code",
   "execution_count": 7,
   "id": "dae982b1-8f4e-4515-94d3-25cccf1d8e7a",
   "metadata": {},
   "outputs": [],
   "source": [
    "df = df.merge(top_hotel, left_on=\"hotel_id\", right_on=\"HotelID\", how=\"left\")"
   ]
  },
  {
   "cell_type": "code",
   "execution_count": 8,
   "id": "c93a5228-8d2b-4c8e-8652-39a195b94251",
   "metadata": {},
   "outputs": [],
   "source": [
    "# Operator Code\n",
    "df[\"operator_code\"] = df[\"operator_code\"].fillna(df[\"hotel_id\"]).apply(str)\n",
    "# Text Case\n",
    "for col in [\"guest_name\", \"room_code\", \"meal\"]:\n",
    "    df[col] = df[col].str.upper()\n",
    "\n",
    "for col in [\"status\", \"status4\", \"status5\"]:\n",
    "    df[col] = df[col].str.capitalize()"
   ]
  },
  {
   "cell_type": "code",
   "execution_count": 9,
   "id": "56694768-565e-41e6-9a3f-1cc5279b757b",
   "metadata": {},
   "outputs": [],
   "source": [
    "# Cancellation Date\n",
    "# Convert \"1900-01-01\" to pd.NA\n",
    "df[\"cancellation_date\"] = df[\"cancellation_date\"].replace(\"1900-01-01\", pd.NA)\n",
    "\n",
    "# Fill missing values with \"last_modified_date\" where \"status\" is \"Can\"\n",
    "df.loc[\n",
    "    df[\"cancellation_date\"].isna() & (df[\"status\"] == \"Can\"),\n",
    "    \"cancellation_date\",\n",
    "] = df[\"last_modified_date\"]\n",
    "\n",
    "# Set non-matching \"status\" values to pd.NA\n",
    "df.loc[\n",
    "    ~df[\"cancellation_date\"].isna() & (df[\"status\"] != \"Can\"),\n",
    "    \"cancellation_date\",\n",
    "] = pd.NA"
   ]
  },
  {
   "cell_type": "code",
   "execution_count": 10,
   "id": "59a43549-8c2b-4191-9eb3-2afaf1e88f62",
   "metadata": {},
   "outputs": [],
   "source": [
    "# Update Status\n",
    "df[\"status\"] = df[\"status\"].apply(lambda x: x if x == \"Can\" else \"Ok\")"
   ]
  },
  {
   "cell_type": "code",
   "execution_count": 11,
   "id": "7da1b5cd-13ab-421f-ab26-b925d743d4f4",
   "metadata": {},
   "outputs": [],
   "source": [
    "# Price Info\n",
    "df.loc[df[\"purchase_price\"] < 1, \"purchase_price\"] = 0\n",
    "df.loc[df[\"sales_price\"] < 1, \"sales_price\"] = 0"
   ]
  },
  {
   "cell_type": "code",
   "execution_count": 12,
   "id": "cd6dbf0e-59de-438f-b952-1b539bb02ca4",
   "metadata": {},
   "outputs": [],
   "source": [
    "df = df.apply(lambda x: x.fillna(0) if x.dtype.kind in \"biufc\" else x)"
   ]
  },
  {
   "cell_type": "code",
   "execution_count": 13,
   "id": "2b800861-2091-41bb-aba5-393ce0f10a2d",
   "metadata": {},
   "outputs": [],
   "source": [
    "# Hotel ID, Charter Bool\n",
    "df = df.merge(\n",
    "    hotels,\n",
    "    how=\"left\",\n",
    "    left_on=\"hotel_id\",\n",
    "    right_index=True,\n",
    "    suffixes=(\"_external\", \"\"),\n",
    ")\n",
    "df[\"hotel_id\"] = df[\"hotel_id\"].fillna(-1).astype(int)"
   ]
  },
  {
   "cell_type": "code",
   "execution_count": 14,
   "id": "77d69a4d-137b-4072-a91d-382e9ca32634",
   "metadata": {},
   "outputs": [],
   "source": [
    "df.to_csv(\"rr_top_hotels.csv\", index=False)"
   ]
  },
  {
   "cell_type": "code",
   "execution_count": null,
   "id": "19d4bb42-83da-4a6c-b062-378a3d53e58c",
   "metadata": {},
   "outputs": [],
   "source": []
  }
 ],
 "metadata": {
  "kernelspec": {
   "display_name": "Python 3 (ipykernel)",
   "language": "python",
   "name": "python3"
  },
  "language_info": {
   "codemirror_mode": {
    "name": "ipython",
    "version": 3
   },
   "file_extension": ".py",
   "mimetype": "text/x-python",
   "name": "python",
   "nbconvert_exporter": "python",
   "pygments_lexer": "ipython3",
   "version": "3.11.4"
  }
 },
 "nbformat": 4,
 "nbformat_minor": 5
}
