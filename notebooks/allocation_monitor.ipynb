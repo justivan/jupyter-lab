{
 "cells": [
  {
   "cell_type": "code",
   "execution_count": 1,
   "id": "1eedf941-ecc3-4c54-8c35-0e9795049da6",
   "metadata": {},
   "outputs": [],
   "source": [
    "import pandas as pd"
   ]
  },
  {
   "cell_type": "code",
   "execution_count": 2,
   "id": "108d546b-372d-4e31-92c2-d9e852404e7f",
   "metadata": {},
   "outputs": [],
   "source": [
    "df = pd.read_csv(\"salalah_allocation.csv\", parse_dates=[\"date\"])"
   ]
  },
  {
   "cell_type": "code",
   "execution_count": 1,
   "id": "8e693f6f-5aee-463c-928b-c10b581a3f05",
   "metadata": {},
   "outputs": [
    {
     "ename": "NameError",
     "evalue": "name 'df' is not defined",
     "output_type": "error",
     "traceback": [
      "\u001b[0;31m---------------------------------------------------------------------------\u001b[0m",
      "\u001b[0;31mNameError\u001b[0m                                 Traceback (most recent call last)",
      "Cell \u001b[0;32mIn[1], line 1\u001b[0m\n\u001b[0;32m----> 1\u001b[0m \u001b[43mdf\u001b[49m\u001b[38;5;241m.\u001b[39mhead(\u001b[38;5;241m20\u001b[39m)\n",
      "\u001b[0;31mNameError\u001b[0m: name 'df' is not defined"
     ]
    }
   ],
   "source": [
    "df.head(20)"
   ]
  },
  {
   "cell_type": "code",
   "execution_count": 4,
   "id": "98895baf-e6ec-4efb-b8ae-e0386b3b38e2",
   "metadata": {},
   "outputs": [],
   "source": [
    "df[\"group\"] = (df[\"allocation\"] != df[\"allocation\"].shift()).cumsum()"
   ]
  },
  {
   "cell_type": "code",
   "execution_count": 5,
   "id": "cdd1d3af-1a20-441a-bfad-9ed5db32a2ff",
   "metadata": {},
   "outputs": [
    {
     "name": "stdout",
     "output_type": "stream",
     "text": [
      "   start_date   end_date  allocation\n",
      "0  2023-11-01 2023-11-04          10\n",
      "1  2023-11-05 2023-11-08          15\n",
      "2  2023-11-09 2023-11-14          22\n",
      "3  2023-11-15 2023-11-29          15\n",
      "4  2023-11-30 2023-12-12          20\n",
      "5  2023-12-13 2023-12-22          15\n",
      "6  2023-12-23 2024-01-03          10\n",
      "7  2024-01-04 2024-01-10          15\n",
      "8  2024-01-11 2024-01-12          22\n",
      "9  2024-01-13 2024-01-24          15\n",
      "10 2024-01-25 2024-02-02          22\n",
      "11 2024-02-03 2024-02-10          10\n",
      "12 2024-02-11 2024-03-05          15\n",
      "13 2024-03-06 2024-04-13          10\n",
      "14 2024-04-14 2024-04-23          22\n",
      "15 2024-04-24 2024-04-26          15\n",
      "16 2024-04-27 2024-04-30          10\n"
     ]
    }
   ],
   "source": [
    "# Create a list to store the result\n",
    "result_data = []\n",
    "\n",
    "# Iterate over the groups and calculate start_date and end_date\n",
    "for group_id, group_data in df.groupby(\"group\"):\n",
    "    start_date = group_data[\"date\"].iloc[0]\n",
    "    end_date = group_data[\"date\"].iloc[-1]\n",
    "    allocation = group_data[\"allocation\"].iloc[0]\n",
    "    result_data.append(\n",
    "        {\"start_date\": start_date, \"end_date\": end_date, \"allocation\": allocation}\n",
    "    )\n",
    "\n",
    "# Drop the 'group' column (optional)\n",
    "df.drop(\"group\", axis=1, inplace=True)\n",
    "\n",
    "# Convert the result_data list into a DataFrame\n",
    "result_df = pd.DataFrame(result_data)\n",
    "\n",
    "print(result_df)"
   ]
  },
  {
   "cell_type": "code",
   "execution_count": 2,
   "id": "5b72e5a5-c5f4-4fc9-ad9d-2bc05ef0c50a",
   "metadata": {},
   "outputs": [
    {
     "ename": "NameError",
     "evalue": "name 'result_df' is not defined",
     "output_type": "error",
     "traceback": [
      "\u001b[0;31m---------------------------------------------------------------------------\u001b[0m",
      "\u001b[0;31mNameError\u001b[0m                                 Traceback (most recent call last)",
      "Cell \u001b[0;32mIn[2], line 6\u001b[0m\n\u001b[1;32m      2\u001b[0m \u001b[38;5;28;01mfrom\u001b[39;00m \u001b[38;5;21;01mdatetime\u001b[39;00m \u001b[38;5;28;01mimport\u001b[39;00m datetime\n\u001b[1;32m      4\u001b[0m output \u001b[38;5;241m=\u001b[39m []\n\u001b[0;32m----> 6\u001b[0m \u001b[38;5;28;01mfor\u001b[39;00m _, row \u001b[38;5;129;01min\u001b[39;00m \u001b[43mresult_df\u001b[49m\u001b[38;5;241m.\u001b[39miterrows():\n\u001b[1;32m      7\u001b[0m     \u001b[38;5;28mdict\u001b[39m \u001b[38;5;241m=\u001b[39m {\n\u001b[1;32m      8\u001b[0m         \u001b[38;5;124m\"\u001b[39m\u001b[38;5;124mmodel\u001b[39m\u001b[38;5;124m\"\u001b[39m: \u001b[38;5;124m\"\u001b[39m\u001b[38;5;124mreports.roominventory\u001b[39m\u001b[38;5;124m\"\u001b[39m,\n\u001b[1;32m      9\u001b[0m         \u001b[38;5;124m\"\u001b[39m\u001b[38;5;124mfields\u001b[39m\u001b[38;5;124m\"\u001b[39m: {\n\u001b[0;32m   (...)\u001b[0m\n\u001b[1;32m     17\u001b[0m         },\n\u001b[1;32m     18\u001b[0m     }\n\u001b[1;32m     19\u001b[0m     output\u001b[38;5;241m.\u001b[39mappend(\u001b[38;5;28mdict\u001b[39m)\n",
      "\u001b[0;31mNameError\u001b[0m: name 'result_df' is not defined"
     ]
    }
   ],
   "source": [
    "import json\n",
    "from datetime import datetime\n",
    "\n",
    "output = []\n",
    "\n",
    "for _, row in result_df.iterrows():\n",
    "    dict = {\n",
    "        \"model\": \"reports.roominventory\",\n",
    "        \"fields\": {\n",
    "            \"room\": 6761,\n",
    "            \"start_date\": row[\"start_date\"].strftime(\"%Y-%m-%d\"),\n",
    "            \"end_date\": row[\"end_date\"].strftime(\"%Y-%m-%d\"),\n",
    "            \"quantity\": row[\"allocation\"],\n",
    "            \"freesale\": False,\n",
    "            \"charter\": False,\n",
    "            \"operator_group\": 2,\n",
    "        },\n",
    "    }\n",
    "    output.append(dict)\n",
    "\n",
    "output_json = json.dumps(output, indent=2, default=str)\n",
    "with open(\"roominventory.json\", \"w\") as f:\n",
    "    f.write(output_json)"
   ]
  },
  {
   "cell_type": "code",
   "execution_count": null,
   "id": "722912cd-6972-436c-a5ba-e7b951897f90",
   "metadata": {},
   "outputs": [],
   "source": [
    "records = df.to_dict(orient=\"records\")\n",
    "\n",
    "with Session(engine) as session:\n",
    "    for record in records:\n",
    "        try:\n",
    "            stmt = insert(reservations_booking).values(record)\n",
    "            session.execute(stmt)\n",
    "            session.commit()\n",
    "        except exc.IntegrityError as e:\n",
    "            session.rollback()\n",
    "            if isinstance(e.orig, UniqueViolation):\n",
    "                record[\"flag\"] = \"amendment\"\n",
    "            elif isinstance(e.orig, ForeignKeyViolation):\n",
    "                record[\"flag\"] = \"not mapped\"\n",
    "            stmt = (\n",
    "                insert(reservations_booking_staging)\n",
    "                .values(record)\n",
    "                .on_conflict_do_update(\n",
    "                    constraint=\"reservations_booking_staging_pkey\",\n",
    "                    set_=dict(stmt.excluded),\n",
    "                )\n",
    "            )\n",
    "            session.execute(stmt)\n",
    "            session.commit()"
   ]
  }
 ],
 "metadata": {
  "kernelspec": {
   "display_name": "Python 3 (ipykernel)",
   "language": "python",
   "name": "python3"
  },
  "language_info": {
   "codemirror_mode": {
    "name": "ipython",
    "version": 3
   },
   "file_extension": ".py",
   "mimetype": "text/x-python",
   "name": "python",
   "nbconvert_exporter": "python",
   "pygments_lexer": "ipython3",
   "version": "3.11.4"
  }
 },
 "nbformat": 4,
 "nbformat_minor": 5
}
