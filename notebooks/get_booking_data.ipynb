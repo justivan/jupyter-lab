{
 "cells": [
  {
   "cell_type": "code",
   "execution_count": 1,
   "id": "0b8f8b40-8d0e-48c7-ac9f-05ee0f6a9af8",
   "metadata": {},
   "outputs": [],
   "source": [
    "import io\n",
    "from pathlib import Path\n",
    "\n",
    "import pandas as pd\n",
    "from sklearn.pipeline import Pipeline\n",
    "from ssrs import BookingData, RoomMapping\n",
    "from transformers import BookingDataReadCsv"
   ]
  },
  {
   "cell_type": "code",
   "execution_count": 2,
   "id": "bd63f3a4-3a34-4d04-aa0c-d401360a84fa",
   "metadata": {},
   "outputs": [],
   "source": [
    "base_dir = Path(\".\").resolve()"
   ]
  },
  {
   "cell_type": "code",
   "execution_count": 3,
   "id": "bbf87a34-5faf-4c9f-9b67-6152c7c1cd08",
   "metadata": {},
   "outputs": [],
   "source": [
    "pipeline = Pipeline(\n",
    "    [\n",
    "        (\"csv_reader\", BookingDataReadCsv()),\n",
    "    ]\n",
    ")"
   ]
  },
  {
   "cell_type": "code",
   "execution_count": 4,
   "id": "5e76decf-1680-48d7-9109-326ebf25714b",
   "metadata": {},
   "outputs": [],
   "source": [
    "dfs = []\n",
    "\n",
    "for destination in [\"DU\", \"OM\"]:\n",
    "    booking_data = BookingData(\n",
    "        destination, \"01/01/2023 00:00:00\", \"12/31/2026 00:00:00\"\n",
    "    )\n",
    "    get_bookings = booking_data.get()\n",
    "\n",
    "    if get_bookings is not None:\n",
    "        df = pipeline.fit_transform(get_bookings)\n",
    "\n",
    "    dfs.append(df)"
   ]
  },
  {
   "cell_type": "code",
   "execution_count": 5,
   "id": "1361e05f-2de0-4a13-b2cb-9a74ac16d40f",
   "metadata": {},
   "outputs": [],
   "source": [
    "bookings = pd.concat(dfs, axis=0, ignore_index=True)"
   ]
  },
  {
   "cell_type": "code",
   "execution_count": 6,
   "id": "4d111f73-9c12-43ab-9cb8-5d4d51ae6613",
   "metadata": {},
   "outputs": [],
   "source": [
    "bookings.to_csv(base_dir / \"data\" / \"bookings.csv\", index=False)"
   ]
  }
 ],
 "metadata": {
  "kernelspec": {
   "display_name": "Python 3 (ipykernel)",
   "language": "python",
   "name": "python3"
  },
  "language_info": {
   "codemirror_mode": {
    "name": "ipython",
    "version": 3
   },
   "file_extension": ".py",
   "mimetype": "text/x-python",
   "name": "python",
   "nbconvert_exporter": "python",
   "pygments_lexer": "ipython3",
   "version": "3.11.4"
  }
 },
 "nbformat": 4,
 "nbformat_minor": 5
}
