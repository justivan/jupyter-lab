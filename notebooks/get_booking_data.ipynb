{
 "cells": [
  {
   "cell_type": "code",
   "execution_count": 1,
   "id": "0b8f8b40-8d0e-48c7-ac9f-05ee0f6a9af8",
   "metadata": {},
   "outputs": [],
   "source": [
    "import io\n",
    "from pathlib import Path\n",
    "\n",
    "import pandas as pd\n",
    "from ssrs import BookingData, RoomMapping"
   ]
  },
  {
   "cell_type": "code",
   "execution_count": 2,
   "id": "bd63f3a4-3a34-4d04-aa0c-d401360a84fa",
   "metadata": {},
   "outputs": [],
   "source": [
    "base_dir = Path(\".\").resolve()"
   ]
  },
  {
   "cell_type": "code",
   "execution_count": null,
   "id": "5e76decf-1680-48d7-9109-326ebf25714b",
   "metadata": {},
   "outputs": [],
   "source": [
    "booking_data = BookingData(\"DU\", \"01/01/2022 00:00:00\", \"12/31/2026 00:00:00\")\n",
    "get_bookings = booking_data.get()"
   ]
  },
  {
   "cell_type": "code",
   "execution_count": null,
   "id": "38c316cc-dc63-41e8-b1eb-75dcc5ae935a",
   "metadata": {},
   "outputs": [],
   "source": []
  }
 ],
 "metadata": {
  "kernelspec": {
   "display_name": "Python 3 (ipykernel)",
   "language": "python",
   "name": "python3"
  },
  "language_info": {
   "codemirror_mode": {
    "name": "ipython",
    "version": 3
   },
   "file_extension": ".py",
   "mimetype": "text/x-python",
   "name": "python",
   "nbconvert_exporter": "python",
   "pygments_lexer": "ipython3",
   "version": "3.11.4"
  }
 },
 "nbformat": 4,
 "nbformat_minor": 5
}
