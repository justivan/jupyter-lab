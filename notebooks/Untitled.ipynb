{
 "cells": [
  {
   "cell_type": "code",
   "execution_count": 1,
   "id": "aa284434-0582-4d99-87d7-580c40b55939",
   "metadata": {},
   "outputs": [],
   "source": [
    "import io\n",
    "import urllib\n",
    "\n",
    "import pandas as pd\n",
    "import requests\n",
    "from config import Config\n",
    "from requests_ntlm import HttpNtlmAuth"
   ]
  },
  {
   "cell_type": "code",
   "execution_count": 2,
   "id": "3aaacf4a-50ef-4b94-ad28-3a306cea8198",
   "metadata": {},
   "outputs": [],
   "source": [
    "class ContractMonitor:\n",
    "    def __init__(self, ssrs_url, ssrs_usr, ssrs_pwd):\n",
    "        self.ssrs_url = ssrs_url\n",
    "        self.ssrs_usr = ssrs_usr\n",
    "        self.ssrs_pwd = ssrs_pwd\n",
    "\n",
    "    def set_params(self):\n",
    "        self.payload = [\n",
    "            (\"Seas:isnull\", True),\n",
    "            (\"Season\", \"ALL 22-23\"),\n",
    "            (\"Season\", \"ALL 23-24\"),\n",
    "            (\"City\", \"ALL\"),\n",
    "            (\"Hotel_Chain\", \"ALL\"),\n",
    "            (\"hotel\", 1000000),\n",
    "            (\"operator\", 2),\n",
    "            (\"CreateDateFrom:isnull\", True),\n",
    "            (\"CreateDateTo:isnull\", True),\n",
    "            (\"contracttype\", \"A\"),\n",
    "            # (\"contracttype\", \"S\"),\n",
    "            (\"contractstatus\", \"E\"),\n",
    "            # ('contractstatus', 'H'),\n",
    "            (\"Revize\", 2),\n",
    "            (\"showauth\", True),\n",
    "            (\"view\", 1),\n",
    "            (\"citycontract\", 1),\n",
    "            (\"citycontract\", 0),\n",
    "            (\"rs:ParameterLanguage\", \"\"),\n",
    "            (\"rs:Command\", \"Render\"),\n",
    "            (\"rs:Format\", \"CSV\"),\n",
    "            (\"rc:ItemPath\", \"table1\"),\n",
    "        ]\n",
    "\n",
    "        self.params = urllib.parse.urlencode(self.payload, quote_via=urllib.parse.quote)\n",
    "\n",
    "    def get(self):\n",
    "        response = requests.get(\n",
    "            self.ssrs_url,\n",
    "            params=self.params,\n",
    "            stream=True,\n",
    "            auth=HttpNtlmAuth(self.ssrs_usr, self.ssrs_pwd),\n",
    "        )\n",
    "\n",
    "        print(response.url, response.status_code)\n",
    "        if response.status_code == 200:\n",
    "            data = response.content.decode(\"utf8\")\n",
    "            if len(data) > 424:\n",
    "                return data\n",
    "        return None"
   ]
  },
  {
   "cell_type": "code",
   "execution_count": 3,
   "id": "a3ee94ab-0d14-454f-ae98-4eafadbb2744",
   "metadata": {},
   "outputs": [
    {
     "name": "stdout",
     "output_type": "stream",
     "text": [
      "http://95.211.42.206/ReportServer_SSRS?/DU%20Reports/Contracting/Contract%20Monitor&Seas%3Aisnull=True&Season=ALL%2022-23&Season=ALL%2023-24&City=ALL&Hotel_Chain=ALL&hotel=1000000&operator=2&CreateDateFrom%3Aisnull=True&CreateDateTo%3Aisnull=True&contracttype=A&contractstatus=E&Revize=2&showauth=True&view=1&citycontract=1&citycontract=0&rs%3AParameterLanguage=&rs%3ACommand=Render&rs%3AFormat=CSV&rc%3AItemPath=table1 200\n"
     ]
    }
   ],
   "source": [
    "ssrs_url = (\n",
    "    \"http://95.211.42.206/ReportServer_SSRS?/DU Reports/Contracting/Contract Monitor\"\n",
    ")\n",
    "ssrs_usr = Config.SSRS_USERNAME\n",
    "ssrs_pwd = Config.SSRS_PASSWORD\n",
    "\n",
    "contracts = ContractMonitor(ssrs_url, ssrs_usr, ssrs_pwd)\n",
    "contracts.set_params()\n",
    "data = contracts.get()"
   ]
  },
  {
   "cell_type": "code",
   "execution_count": 4,
   "id": "5b2eb1ed-7346-45fe-9152-a8043da5ced4",
   "metadata": {},
   "outputs": [],
   "source": [
    "contracts = pd.read_csv(\n",
    "    io.StringIO(data),\n",
    "    header=0,\n",
    "    skiprows=2,\n",
    "    names=[\n",
    "        \"contract_id\",\n",
    "        \"contract_type\",\n",
    "        \"status\",\n",
    "        \"purchase_contract_id\",\n",
    "        \"revise_number\",\n",
    "        \"prev_contract_id\",\n",
    "        \"is_revised\",\n",
    "        \"operator_name\",\n",
    "        \"hotel_id\",\n",
    "        \"hotel_name_gwg\",\n",
    "        \"main_season\",\n",
    "        \"create_date\",\n",
    "        \"begin_date\",\n",
    "        \"end_date\",\n",
    "        \"res_start_date\",\n",
    "        \"res_end_date\",\n",
    "        \"meal_plan\",\n",
    "        \"history\",\n",
    "        \"activation_date\",\n",
    "    ],\n",
    "    usecols=[0, 1, 2, 3, 4, 5, 6, 7, 8, 9, 20, 21, 22, 23, 24, 25, 26, 35, 37],\n",
    "    dtype={\n",
    "        \"contract_id\": pd.Int64Dtype(),\n",
    "        \"contract_type\": str,\n",
    "        \"status\": str,\n",
    "        \"purchase_contract_id\": pd.Int64Dtype(),\n",
    "        \"revise_number\": pd.Int64Dtype(),\n",
    "        \"prev_contract_id\": pd.Int64Dtype(),\n",
    "        \"is_revised\": bool,\n",
    "        \"operator_name\": object,\n",
    "        \"hotel_id\": pd.Int64Dtype(),\n",
    "        \"hotel_name_gwg\": str,\n",
    "        \"main_season\": str,\n",
    "        \"meal_plan\": str,\n",
    "        \"history\": str,\n",
    "    },\n",
    "    parse_dates=[\n",
    "        \"create_date\",\n",
    "        \"begin_date\",\n",
    "        \"end_date\",\n",
    "        \"res_start_date\",\n",
    "        \"res_end_date\",\n",
    "        \"activation_date\",\n",
    "    ],\n",
    ")\n",
    "\n",
    "contracts.sort_values(by=[\"hotel_name_gwg\", \"create_date\"], inplace=True)\n",
    "contracts.drop_duplicates(subset=\"hotel_name_gwg\", keep=\"last\", inplace=True)\n",
    "\n",
    "contracts[\"hotel_name\"] = contracts[\"hotel_name_gwg\"].str.split(\"(\").str[0]\n",
    "contracts[\"hotel_name\"] = contracts[\"hotel_name\"].str.split().str.join(\" \")"
   ]
  },
  {
   "cell_type": "code",
   "execution_count": 5,
   "id": "8897592f-2fe9-4414-9429-9851c332db4e",
   "metadata": {},
   "outputs": [],
   "source": [
    "contracts.to_csv(\"out.csv\")"
   ]
  },
  {
   "cell_type": "code",
   "execution_count": 6,
   "id": "dac5d174-8f9b-4ecc-a67e-c0ad69a4fed5",
   "metadata": {},
   "outputs": [],
   "source": [
    "from ssrs import BookingData\n",
    "from transformers import BookingDataEncoder, BookingDataReadCsv\n",
    "\n",
    "booking_data = BookingData(\"DU\", \"11/01/2022 00:00:00\", \"10/31/2024 00:00:00\")\n",
    "get_bookings = booking_data.get()"
   ]
  },
  {
   "cell_type": "code",
   "execution_count": 7,
   "id": "3d63d23e-4be9-467e-bec9-40f90412521b",
   "metadata": {},
   "outputs": [],
   "source": [
    "from sklearn.pipeline import Pipeline\n",
    "\n",
    "pipeline = Pipeline(\n",
    "    [\n",
    "        (\"csv_reader\", BookingDataReadCsv()),\n",
    "    ]\n",
    ")\n",
    "\n",
    "bookings = pipeline.fit_transform(get_bookings)"
   ]
  },
  {
   "cell_type": "code",
   "execution_count": 8,
   "id": "9a02a42a-810a-4800-8eac-cfdf5519f88d",
   "metadata": {},
   "outputs": [
    {
     "data": {
      "text/html": [
       "<div>\n",
       "<style scoped>\n",
       "    .dataframe tbody tr th:only-of-type {\n",
       "        vertical-align: middle;\n",
       "    }\n",
       "\n",
       "    .dataframe tbody tr th {\n",
       "        vertical-align: top;\n",
       "    }\n",
       "\n",
       "    .dataframe thead th {\n",
       "        text-align: right;\n",
       "    }\n",
       "</style>\n",
       "<table border=\"1\" class=\"dataframe\">\n",
       "  <thead>\n",
       "    <tr style=\"text-align: right;\">\n",
       "      <th></th>\n",
       "      <th>ref_id</th>\n",
       "      <th>res_id</th>\n",
       "      <th>hotel_id</th>\n",
       "      <th>operator_id</th>\n",
       "      <th>operator_code</th>\n",
       "      <th>bkg_ref</th>\n",
       "      <th>guest_name</th>\n",
       "      <th>sales_date</th>\n",
       "      <th>in_date</th>\n",
       "      <th>out_date</th>\n",
       "      <th>...</th>\n",
       "      <th>status5</th>\n",
       "      <th>purchase_contract_id</th>\n",
       "      <th>purchase_spo_id</th>\n",
       "      <th>sales_contract_id</th>\n",
       "      <th>sales_spo_id</th>\n",
       "      <th>sales_spo_name</th>\n",
       "      <th>sales_spo_code</th>\n",
       "      <th>purchase_spo_name</th>\n",
       "      <th>purchase_spo_code</th>\n",
       "      <th>main_season</th>\n",
       "    </tr>\n",
       "  </thead>\n",
       "  <tbody>\n",
       "    <tr>\n",
       "      <th>0</th>\n",
       "      <td>1535416</td>\n",
       "      <td>778062</td>\n",
       "      <td>218736</td>\n",
       "      <td>6</td>\n",
       "      <td>AUH277</td>\n",
       "      <td>RDUMMY0208</td>\n",
       "      <td>RDUMMY0208 RDUMMY0208</td>\n",
       "      <td>2017-01-01</td>\n",
       "      <td>2023-03-09</td>\n",
       "      <td>2023-03-15</td>\n",
       "      <td>...</td>\n",
       "      <td>Man</td>\n",
       "      <td>291586</td>\n",
       "      <td>0</td>\n",
       "      <td>0</td>\n",
       "      <td>0</td>\n",
       "      <td>NaN</td>\n",
       "      <td>NaN</td>\n",
       "      <td>NaN</td>\n",
       "      <td>NaN</td>\n",
       "      <td>NaN</td>\n",
       "    </tr>\n",
       "    <tr>\n",
       "      <th>1</th>\n",
       "      <td>2110332</td>\n",
       "      <td>778062</td>\n",
       "      <td>218736</td>\n",
       "      <td>6</td>\n",
       "      <td>NaN</td>\n",
       "      <td>RDUMMY0208</td>\n",
       "      <td>test test</td>\n",
       "      <td>2017-01-01</td>\n",
       "      <td>2023-09-08</td>\n",
       "      <td>2023-09-13</td>\n",
       "      <td>...</td>\n",
       "      <td>Man</td>\n",
       "      <td>306694</td>\n",
       "      <td>0</td>\n",
       "      <td>0</td>\n",
       "      <td>0</td>\n",
       "      <td>NaN</td>\n",
       "      <td>NaN</td>\n",
       "      <td>NaN</td>\n",
       "      <td>NaN</td>\n",
       "      <td>NaN</td>\n",
       "    </tr>\n",
       "    <tr>\n",
       "      <th>2</th>\n",
       "      <td>2110333</td>\n",
       "      <td>778062</td>\n",
       "      <td>218736</td>\n",
       "      <td>6</td>\n",
       "      <td>NaN</td>\n",
       "      <td>RDUMMY0208</td>\n",
       "      <td>TEST TEST</td>\n",
       "      <td>2017-01-01</td>\n",
       "      <td>2023-09-08</td>\n",
       "      <td>2023-09-13</td>\n",
       "      <td>...</td>\n",
       "      <td>Man</td>\n",
       "      <td>306694</td>\n",
       "      <td>0</td>\n",
       "      <td>0</td>\n",
       "      <td>0</td>\n",
       "      <td>NaN</td>\n",
       "      <td>NaN</td>\n",
       "      <td>NaN</td>\n",
       "      <td>NaN</td>\n",
       "      <td>NaN</td>\n",
       "    </tr>\n",
       "    <tr>\n",
       "      <th>3</th>\n",
       "      <td>1721293</td>\n",
       "      <td>778062</td>\n",
       "      <td>218736</td>\n",
       "      <td>6</td>\n",
       "      <td>AUH277</td>\n",
       "      <td>RDUMMY0208</td>\n",
       "      <td>RDUMMY0208 RDUMMY0208</td>\n",
       "      <td>2017-01-01</td>\n",
       "      <td>2023-03-09</td>\n",
       "      <td>2023-03-15</td>\n",
       "      <td>...</td>\n",
       "      <td>Man</td>\n",
       "      <td>306694</td>\n",
       "      <td>0</td>\n",
       "      <td>0</td>\n",
       "      <td>0</td>\n",
       "      <td>NaN</td>\n",
       "      <td>NaN</td>\n",
       "      <td>NaN</td>\n",
       "      <td>NaN</td>\n",
       "      <td>NaN</td>\n",
       "    </tr>\n",
       "    <tr>\n",
       "      <th>4</th>\n",
       "      <td>2110330</td>\n",
       "      <td>778062</td>\n",
       "      <td>218736</td>\n",
       "      <td>6</td>\n",
       "      <td>NaN</td>\n",
       "      <td>RDUMMY0208</td>\n",
       "      <td>TEST TEST</td>\n",
       "      <td>2017-01-01</td>\n",
       "      <td>2023-09-08</td>\n",
       "      <td>2023-09-13</td>\n",
       "      <td>...</td>\n",
       "      <td>Man</td>\n",
       "      <td>306694</td>\n",
       "      <td>0</td>\n",
       "      <td>0</td>\n",
       "      <td>0</td>\n",
       "      <td>NaN</td>\n",
       "      <td>NaN</td>\n",
       "      <td>NaN</td>\n",
       "      <td>NaN</td>\n",
       "      <td>NaN</td>\n",
       "    </tr>\n",
       "  </tbody>\n",
       "</table>\n",
       "<p>5 rows × 37 columns</p>\n",
       "</div>"
      ],
      "text/plain": [
       "    ref_id  res_id  hotel_id  operator_id operator_code     bkg_ref  \\\n",
       "0  1535416  778062    218736            6        AUH277  RDUMMY0208   \n",
       "1  2110332  778062    218736            6           NaN  RDUMMY0208   \n",
       "2  2110333  778062    218736            6           NaN  RDUMMY0208   \n",
       "3  1721293  778062    218736            6        AUH277  RDUMMY0208   \n",
       "4  2110330  778062    218736            6           NaN  RDUMMY0208   \n",
       "\n",
       "              guest_name sales_date    in_date   out_date  ... status5  \\\n",
       "0  RDUMMY0208 RDUMMY0208 2017-01-01 2023-03-09 2023-03-15  ...     Man   \n",
       "1              test test 2017-01-01 2023-09-08 2023-09-13  ...     Man   \n",
       "2              TEST TEST 2017-01-01 2023-09-08 2023-09-13  ...     Man   \n",
       "3  RDUMMY0208 RDUMMY0208 2017-01-01 2023-03-09 2023-03-15  ...     Man   \n",
       "4              TEST TEST 2017-01-01 2023-09-08 2023-09-13  ...     Man   \n",
       "\n",
       "  purchase_contract_id purchase_spo_id  sales_contract_id  sales_spo_id  \\\n",
       "0               291586               0                  0             0   \n",
       "1               306694               0                  0             0   \n",
       "2               306694               0                  0             0   \n",
       "3               306694               0                  0             0   \n",
       "4               306694               0                  0             0   \n",
       "\n",
       "   sales_spo_name  sales_spo_code purchase_spo_name  purchase_spo_code  \\\n",
       "0             NaN             NaN               NaN                NaN   \n",
       "1             NaN             NaN               NaN                NaN   \n",
       "2             NaN             NaN               NaN                NaN   \n",
       "3             NaN             NaN               NaN                NaN   \n",
       "4             NaN             NaN               NaN                NaN   \n",
       "\n",
       "  main_season  \n",
       "0         NaN  \n",
       "1         NaN  \n",
       "2         NaN  \n",
       "3         NaN  \n",
       "4         NaN  \n",
       "\n",
       "[5 rows x 37 columns]"
      ]
     },
     "execution_count": 8,
     "metadata": {},
     "output_type": "execute_result"
    }
   ],
   "source": [
    "bookings.head()"
   ]
  },
  {
   "cell_type": "code",
   "execution_count": 9,
   "id": "c6a42e77-7f4d-4364-9336-f68803a26834",
   "metadata": {},
   "outputs": [],
   "source": [
    "fti_group = [87, 63, 27, 88, 7, 915, 604, 6, 938, 509, 64, 19]\n",
    "bookings = bookings[bookings[\"operator_id\"].isin(fti_group)]"
   ]
  },
  {
   "cell_type": "code",
   "execution_count": 10,
   "id": "1d6119a1-af3a-41e8-b85a-6818a347a839",
   "metadata": {},
   "outputs": [],
   "source": [
    "booking_counts = bookings[\"hotel_id\"].value_counts().reset_index()\n",
    "booking_counts.columns = [\"hotel_id\", \"booking_count\"]"
   ]
  },
  {
   "cell_type": "code",
   "execution_count": 11,
   "id": "af78b52a-8e97-4aef-a93e-a63aa1c7261f",
   "metadata": {},
   "outputs": [],
   "source": [
    "merged_df = pd.merge(contracts, booking_counts, on=\"hotel_id\", how=\"left\")"
   ]
  },
  {
   "cell_type": "code",
   "execution_count": 12,
   "id": "289b2cc0-7136-47cd-a51e-dc70c008b4f6",
   "metadata": {},
   "outputs": [],
   "source": [
    "merged_df[\"booking_count\"] = merged_df[\"booking_count\"].fillna(0)"
   ]
  },
  {
   "cell_type": "code",
   "execution_count": 13,
   "id": "be884a39-fbad-44a0-8aa3-511d4a9d7513",
   "metadata": {},
   "outputs": [],
   "source": [
    "merged_df.to_csv(\"out.csv\")"
   ]
  },
  {
   "cell_type": "code",
   "execution_count": null,
   "id": "9f6828bf-1f60-48ef-ab6f-6466786b4849",
   "metadata": {},
   "outputs": [],
   "source": []
  },
  {
   "cell_type": "code",
   "execution_count": 1,
   "id": "5b7402b3-7117-4b96-812a-f79cbb15e80f",
   "metadata": {},
   "outputs": [
    {
     "data": {
      "text/plain": [
       "'RS_AMS01_FTIAS_VIEW'"
      ]
     },
     "execution_count": 1,
     "metadata": {},
     "output_type": "execute_result"
    }
   ],
   "source": [
    "from config import Config\n",
    "\n",
    "Config.SSRS_USERNAME"
   ]
  },
  {
   "cell_type": "code",
   "execution_count": 2,
   "id": "6a11d841-a352-4586-a11a-7dc62ab1a949",
   "metadata": {},
   "outputs": [
    {
     "data": {
      "text/plain": [
       "'Ft!r3p0rt$AMS'"
      ]
     },
     "execution_count": 2,
     "metadata": {},
     "output_type": "execute_result"
    }
   ],
   "source": [
    "Config.SSRS_PASSWORD"
   ]
  },
  {
   "cell_type": "code",
   "execution_count": 3,
   "id": "6b663560-3227-4f67-ba07-369437f9c44a",
   "metadata": {},
   "outputs": [
    {
     "data": {
      "text/plain": [
       "'http://95.211.42.206/ReportServer_SSRS?/'"
      ]
     },
     "execution_count": 3,
     "metadata": {},
     "output_type": "execute_result"
    }
   ],
   "source": [
    "Config.SSRS_BASE_URL"
   ]
  },
  {
   "cell_type": "code",
   "execution_count": null,
   "id": "5ca2369a-1f34-4e1f-a641-939f41d95495",
   "metadata": {},
   "outputs": [],
   "source": []
  }
 ],
 "metadata": {
  "kernelspec": {
   "display_name": "Python 3 (ipykernel)",
   "language": "python",
   "name": "python3"
  },
  "language_info": {
   "codemirror_mode": {
    "name": "ipython",
    "version": 3
   },
   "file_extension": ".py",
   "mimetype": "text/x-python",
   "name": "python",
   "nbconvert_exporter": "python",
   "pygments_lexer": "ipython3",
   "version": "3.11.4"
  }
 },
 "nbformat": 4,
 "nbformat_minor": 5
}
