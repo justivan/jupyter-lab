{
 "cells": [
  {
   "cell_type": "code",
   "execution_count": 1,
   "id": "0b8f8b40-8d0e-48c7-ac9f-05ee0f6a9af8",
   "metadata": {},
   "outputs": [],
   "source": [
    "import io\n",
    "from pathlib import Path\n",
    "\n",
    "import pandas as pd\n",
    "from ssrs import BookingData, RoomMapping"
   ]
  },
  {
   "cell_type": "code",
   "execution_count": 2,
   "id": "bd63f3a4-3a34-4d04-aa0c-d401360a84fa",
   "metadata": {},
   "outputs": [],
   "source": [
    "base_dir = Path(\".\").resolve()"
   ]
  },
  {
   "cell_type": "code",
   "execution_count": 3,
   "id": "190c4f75-95d0-4ef3-992f-ee457ba3a290",
   "metadata": {},
   "outputs": [
    {
     "data": {
      "text/plain": [
       "PosixPath('/home/jovyan/work')"
      ]
     },
     "execution_count": 3,
     "metadata": {},
     "output_type": "execute_result"
    }
   ],
   "source": [
    "base_dir"
   ]
  },
  {
   "cell_type": "code",
   "execution_count": null,
   "id": "5e76decf-1680-48d7-9109-326ebf25714b",
   "metadata": {},
   "outputs": [],
   "source": [
    "room_mapping = RoomMapping(\"DU\", \"ALL 23-24\")\n",
    "room_mapping_list = pd.read_csv(io.StringIO(room_mapping.get()))\n",
    "room_mapping_list.to_csv(\"room_mapping_list_du_2023_2024.csv\")"
   ]
  },
  {
   "cell_type": "code",
   "execution_count": null,
   "id": "1ab67e90-a40a-4dbd-946e-618222c0fd7e",
   "metadata": {},
   "outputs": [],
   "source": [
    "from config import Config\n",
    "from sqlalchemy import MetaData, Table, and_, create_engine, or_, select\n",
    "from sqlalchemy.orm import Session"
   ]
  },
  {
   "cell_type": "code",
   "execution_count": null,
   "id": "9ba20886-91c9-4b25-b644-ceddf267b50c",
   "metadata": {},
   "outputs": [],
   "source": [
    "engine = create_engine(Config.DATABASE_URI)\n",
    "metadata = MetaData()"
   ]
  }
 ],
 "metadata": {
  "kernelspec": {
   "display_name": "Python 3 (ipykernel)",
   "language": "python",
   "name": "python3"
  },
  "language_info": {
   "codemirror_mode": {
    "name": "ipython",
    "version": 3
   },
   "file_extension": ".py",
   "mimetype": "text/x-python",
   "name": "python",
   "nbconvert_exporter": "python",
   "pygments_lexer": "ipython3",
   "version": "3.11.4"
  }
 },
 "nbformat": 4,
 "nbformat_minor": 5
}
