{
 "cells": [
  {
   "cell_type": "code",
   "execution_count": 1,
   "id": "999fa369-961d-4a7a-abc5-dc181ba32992",
   "metadata": {},
   "outputs": [],
   "source": [
    "import io\n",
    "import time\n",
    "import urllib\n",
    "\n",
    "import numpy as np\n",
    "import pandas as pd\n",
    "import requests\n",
    "from config import Config\n",
    "from requests_ntlm import HttpNtlmAuth"
   ]
  },
  {
   "cell_type": "code",
   "execution_count": 2,
   "id": "f9ddd2e6-ade4-41f4-a0cc-4c906d3335a1",
   "metadata": {},
   "outputs": [],
   "source": [
    "class ContractMonitor:\n",
    "    def __init__(self, hotel_id, domain, season):\n",
    "        self.ssrs_url = (\n",
    "            Config.SSRS_BASE_URL + domain + \" Reports/Contracting/Contract Monitor\"\n",
    "        )\n",
    "        self.ssrs_usr = Config.SSRS_USERNAME\n",
    "        self.ssrs_pwd = Config.SSRS_PASSWORD\n",
    "        self.payload = [\n",
    "            (\"Seas:isnull\", True),\n",
    "            (\"Season\", season),\n",
    "            (\"City\", \"ALL\"),\n",
    "            (\"Hotel_Chain\", \"ALL\"),\n",
    "            (\"hotel\", hotel_id),\n",
    "            (\"operator\", 1000000),\n",
    "            (\"CreateDateFrom:isnull\", True),\n",
    "            (\"CreateDateTo:isnull\", True),\n",
    "            (\"contracttype\", \"A\"),\n",
    "            (\"contracttype\", \"S\"),\n",
    "            (\"contractstatus\", \"E\"),\n",
    "            (\"contractstatus\", \"H\"),\n",
    "            (\"Revize\", 2),\n",
    "            (\"showauth\", True),\n",
    "            (\"view\", 1),\n",
    "            (\"citycontract\", 1),\n",
    "            (\"citycontract\", 0),\n",
    "            (\"rs:ParameterLanguage\", \"\"),\n",
    "            (\"rs:Command\", \"Render\"),\n",
    "            (\"rs:Format\", \"CSV\"),\n",
    "            (\"rc:ItemPath\", \"table1\"),\n",
    "        ]\n",
    "\n",
    "        self.params = urllib.parse.urlencode(self.payload, quote_via=urllib.parse.quote)\n",
    "\n",
    "    def get(self):\n",
    "        response = requests.get(\n",
    "            self.ssrs_url,\n",
    "            params=self.params,\n",
    "            stream=True,\n",
    "            auth=HttpNtlmAuth(self.ssrs_usr, self.ssrs_pwd),\n",
    "        )\n",
    "        print(response.url, response.status_code)\n",
    "        if response.status_code == 200:\n",
    "            data = response.content.decode(\"utf8\")\n",
    "            return data\n",
    "        return None"
   ]
  },
  {
   "cell_type": "code",
   "execution_count": 3,
   "id": "b264cefb-9ebd-44c4-ab39-30cdf70be35c",
   "metadata": {},
   "outputs": [],
   "source": [
    "contract_monitor = ContractMonitor(157243, \"DU\", \"ALL 22-23\")"
   ]
  },
  {
   "cell_type": "code",
   "execution_count": 4,
   "id": "ce4d9719-116f-4c64-bf40-906572f36402",
   "metadata": {},
   "outputs": [
    {
     "name": "stdout",
     "output_type": "stream",
     "text": [
      "http://95.211.42.206/ReportServer_SSRS?/DU%20Reports/Contracting/Contract%20Monitor&Seas%3Aisnull=True&Season=ALL%2022-23&City=ALL&Hotel_Chain=ALL&hotel=157243&operator=1000000&CreateDateFrom%3Aisnull=True&CreateDateTo%3Aisnull=True&contracttype=A&contracttype=S&contractstatus=E&contractstatus=H&Revize=2&showauth=True&view=1&citycontract=1&citycontract=0&rs%3AParameterLanguage=&rs%3ACommand=Render&rs%3AFormat=CSV&rc%3AItemPath=table1 200\n"
     ]
    }
   ],
   "source": [
    "data = contract_monitor.get()"
   ]
  },
  {
   "cell_type": "code",
   "execution_count": 5,
   "id": "47e31c31-2ef0-4817-bdc7-6c85f6c50cbf",
   "metadata": {},
   "outputs": [],
   "source": [
    "pd.read_csv(io.StringIO(data)).to_csv(\"out.csv\", index=False)"
   ]
  },
  {
   "cell_type": "code",
   "execution_count": null,
   "id": "c31f7ef3-804a-4dc3-af57-157b893b81d3",
   "metadata": {},
   "outputs": [],
   "source": [
    "df = pd.read_csv(\n",
    "    io.StringIO(data),\n",
    "    header=0,\n",
    "    skiprows=2,\n",
    "    names=[\n",
    "        \"contract_id\",\n",
    "        \"contract_type\",\n",
    "        \"status\",\n",
    "        \"purchase_contract_id\",\n",
    "        \"revise_number\",\n",
    "        \"prev_contract_id\",\n",
    "        \"is_revised\",\n",
    "        \"hotel_id\",\n",
    "        \"main_season\",\n",
    "        \"create_date\",\n",
    "        \"begin_date\",\n",
    "        \"end_date\",\n",
    "        \"res_start_date\",\n",
    "        \"res_end_date\",\n",
    "        \"meal_plan\",\n",
    "    ],\n",
    "    usecols=[0, 1, 2, 3, 4, 5, 6, 8, 20, 21, 22, 23, 24, 25, 26],\n",
    "    dtype={\n",
    "        \"contract_id\": pd.Int64Dtype(),\n",
    "        \"contract_type\": str,\n",
    "        \"status\": str,\n",
    "        \"purchase_contract_id\": pd.Int64Dtype(),\n",
    "        \"revise_number\": pd.Int64Dtype(),\n",
    "        \"prev_contract_id\": pd.Int64Dtype(),\n",
    "        \"is_revised\": bool,\n",
    "        \"hotel_id\": pd.Int64Dtype(),\n",
    "        \"main_season\": str,\n",
    "        \"meal_plan\": str,\n",
    "    },\n",
    "    parse_dates=[\n",
    "        \"create_date\",\n",
    "        \"begin_date\",\n",
    "        \"end_date\",\n",
    "        \"res_start_date\",\n",
    "        \"res_end_date\",\n",
    "    ],\n",
    ")"
   ]
  },
  {
   "cell_type": "code",
   "execution_count": null,
   "id": "2f6e948b-32a1-4fce-8ec8-9f9ce06f9eb7",
   "metadata": {},
   "outputs": [],
   "source": [
    "df.replace({pd.NaT: None, pd.NA: None, np.NaN: None}, inplace=True)"
   ]
  },
  {
   "cell_type": "code",
   "execution_count": null,
   "id": "1acb66c0-e18a-4778-857b-8e520b6b26ce",
   "metadata": {},
   "outputs": [],
   "source": [
    "from pretty_html_table import build_table\n",
    "\n",
    "html_table_blue_light = build_table(\n",
    "    df,\n",
    "    \"blue_light\",\n",
    "    font_size=\"13px\",\n",
    "    font_family=\"Arial, sans-serif\",\n",
    "    width=\"100px\",\n",
    "    text_align=\"center\",\n",
    "    padding=\"5px\",\n",
    ")"
   ]
  },
  {
   "cell_type": "code",
   "execution_count": null,
   "id": "1952b0db-6e08-495a-8170-bb0d91fad637",
   "metadata": {},
   "outputs": [],
   "source": [
    "from email.mime.multipart import MIMEMultipart\n",
    "from email.mime.text import MIMEText\n",
    "from smtplib import SMTP\n",
    "\n",
    "\n",
    "def send_mail(body):\n",
    "    message = MIMEMultipart()\n",
    "    message[\"Subject\"] = \"Test\"\n",
    "    message[\"From\"] = Config.MAIL_USERNAME\n",
    "    message[\"To\"] = \"ivan.orara@meetingpointuae.com\"\n",
    "\n",
    "    body_content = body\n",
    "    message.attach(MIMEText(body_content, \"html\"))\n",
    "    msg_body = message.as_string()\n",
    "\n",
    "    server = SMTP(Config.MAIL_SERVER, Config.MAIL_PORT)\n",
    "    server.starttls()\n",
    "    server.login(message[\"From\"], Config.MAIL_PASSWORD)\n",
    "    server.sendmail(message[\"From\"], message[\"To\"], msg_body)\n",
    "    server.quit()"
   ]
  },
  {
   "cell_type": "code",
   "execution_count": null,
   "id": "8032c596-6af3-453a-af24-05645c8ae6be",
   "metadata": {},
   "outputs": [],
   "source": [
    "send_mail(html_table_blue_light)"
   ]
  },
  {
   "cell_type": "code",
   "execution_count": 6,
   "id": "cb4a7ca5-d261-43cc-90f9-65b9fb746bb0",
   "metadata": {},
   "outputs": [],
   "source": [
    "from config import Config"
   ]
  },
  {
   "cell_type": "code",
   "execution_count": 8,
   "id": "fdb78d81-276e-46b4-a672-ead6129d0908",
   "metadata": {},
   "outputs": [
    {
     "data": {
      "text/plain": [
       "'http://95.211.42.206/ReportServer_SSRS?/'"
      ]
     },
     "execution_count": 8,
     "metadata": {},
     "output_type": "execute_result"
    }
   ],
   "source": [
    "Config.SSRS_BASE_URL"
   ]
  },
  {
   "cell_type": "code",
   "execution_count": 9,
   "id": "3e96e183-fbac-44d8-aad3-a2ac53223a0b",
   "metadata": {},
   "outputs": [
    {
     "data": {
      "text/plain": [
       "'RS_AMS01_FTIAS_VIEW'"
      ]
     },
     "execution_count": 9,
     "metadata": {},
     "output_type": "execute_result"
    }
   ],
   "source": [
    "Config.SSRS_USERNAME"
   ]
  },
  {
   "cell_type": "code",
   "execution_count": 10,
   "id": "ff7a6885-f85b-4418-a5dc-382ed20fc8da",
   "metadata": {},
   "outputs": [
    {
     "data": {
      "text/plain": [
       "'Ft!r3p0rt$AMS'"
      ]
     },
     "execution_count": 10,
     "metadata": {},
     "output_type": "execute_result"
    }
   ],
   "source": [
    "Config.SSRS_PASSWORD\n"
   ]
  },
  {
   "cell_type": "code",
   "execution_count": null,
   "id": "ff2eecb7-f43c-4e9c-bbbe-83be096e4d99",
   "metadata": {},
   "outputs": [],
   "source": []
  }
 ],
 "metadata": {
  "kernelspec": {
   "display_name": "Python 3 (ipykernel)",
   "language": "python",
   "name": "python3"
  },
  "language_info": {
   "codemirror_mode": {
    "name": "ipython",
    "version": 3
   },
   "file_extension": ".py",
   "mimetype": "text/x-python",
   "name": "python",
   "nbconvert_exporter": "python",
   "pygments_lexer": "ipython3",
   "version": "3.11.4"
  }
 },
 "nbformat": 4,
 "nbformat_minor": 5
}
