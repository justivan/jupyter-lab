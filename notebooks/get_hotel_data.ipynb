{
 "cells": [
  {
   "cell_type": "code",
   "execution_count": 1,
   "id": "e4eb2742-10ab-4414-9c7c-69441bdf250d",
   "metadata": {},
   "outputs": [],
   "source": [
    "import pandas as pd\n",
    "from sklearn.pipeline import Pipeline\n",
    "from ssrs import HotelData\n",
    "from transformers import HotelDataEncoder, HotelDataReadCsv"
   ]
  },
  {
   "cell_type": "code",
   "execution_count": 2,
   "id": "26a59d7d-97cf-420a-8b8e-1d3cf8f5743c",
   "metadata": {},
   "outputs": [],
   "source": [
    "pipeline = Pipeline(\n",
    "    [\n",
    "        (\"csv_reader\", HotelDataReadCsv()),\n",
    "        (\"data_encoder\", HotelDataEncoder()),\n",
    "    ]\n",
    ")"
   ]
  },
  {
   "cell_type": "code",
   "execution_count": 3,
   "id": "5367c9ca-53b4-4a40-96b9-2f0b7895a99d",
   "metadata": {},
   "outputs": [],
   "source": [
    "dfs = []\n",
    "\n",
    "for destination in [\"DU\", \"OM\"]:\n",
    "    data = HotelData(destination).get()\n",
    "    df = pipeline.fit_transform(data)\n",
    "\n",
    "    if destination == \"DU\":\n",
    "        df = df[df[\"Country\"].isin([\"AE\", \"SA\"])]\n",
    "\n",
    "    dfs.append(df)"
   ]
  },
  {
   "cell_type": "code",
   "execution_count": 4,
   "id": "f0c5a048-4466-40dd-a811-fc3c31b064bd",
   "metadata": {},
   "outputs": [],
   "source": [
    "hotel_list = pd.concat(dfs, axis=0, ignore_index=True)\n",
    "hotel_list.to_csv(\"data/hotel_list.csv\", index=False)"
   ]
  }
 ],
 "metadata": {
  "kernelspec": {
   "display_name": "Python 3 (ipykernel)",
   "language": "python",
   "name": "python3"
  },
  "language_info": {
   "codemirror_mode": {
    "name": "ipython",
    "version": 3
   },
   "file_extension": ".py",
   "mimetype": "text/x-python",
   "name": "python",
   "nbconvert_exporter": "python",
   "pygments_lexer": "ipython3",
   "version": "3.11.4"
  }
 },
 "nbformat": 4,
 "nbformat_minor": 5
}
