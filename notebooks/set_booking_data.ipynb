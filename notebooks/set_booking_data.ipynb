{
 "cells": [
  {
   "cell_type": "code",
   "execution_count": 1,
   "id": "8c8c6fc5-23e1-4b84-bb11-0dc424944c89",
   "metadata": {},
   "outputs": [
    {
     "name": "stderr",
     "output_type": "stream",
     "text": [
      "/home/jovyan/work/db.py:8: SAWarning: Did not recognize type 'geometry' of column 'geom'\n",
      "  mapping_hotel = Table(\n"
     ]
    }
   ],
   "source": [
    "from pathlib import Path\n",
    "\n",
    "import numpy as np\n",
    "import pandas as pd\n",
    "from db import *\n",
    "from psycopg2.errors import ForeignKeyViolation, UniqueViolation\n",
    "from sklearn.pipeline import Pipeline\n",
    "from sqlalchemy import delete, exc\n",
    "from sqlalchemy.dialects.postgresql import insert\n",
    "from sqlalchemy.orm import Session\n",
    "from ssrs import BookingData\n",
    "from transformers import BookingDataEncoder, BookingDataReadCsv"
   ]
  },
  {
   "cell_type": "code",
   "execution_count": 2,
   "id": "c79a4003-d2f1-46ce-89a1-eb83d1211616",
   "metadata": {},
   "outputs": [],
   "source": [
    "hotels = pd.read_sql(\n",
    "    sql=select(\n",
    "        mapping_hotel.c.id,\n",
    "        mapping_hotel.c.hotel_id,\n",
    "        mapping_hotel.c.is_charter,\n",
    "    ),\n",
    "    con=engine.connect(),\n",
    ").set_index(\"id\")\n",
    "\n",
    "rooms = pd.read_sql(\n",
    "    sql=select(\n",
    "        accommodation_hotel_room.c.id,\n",
    "        accommodation_hotel_room.c.hotel_id,\n",
    "        accommodation_hotel_room.c.name,\n",
    "        mapping_hotel_room.c.room_code,\n",
    "        mapping_hotel_room.c.room_type,\n",
    "    ).join_from(mapping_hotel_room, accommodation_hotel_room),\n",
    "    con=engine.connect(),\n",
    ")\n",
    "\n",
    "meals = pd.read_sql(\n",
    "    sql=select(\n",
    "        definitions_meal_plan.c.id.label(\"meal_id\"),\n",
    "        definitions_meal_plan.c.code,\n",
    "    ),\n",
    "    con=engine.connect(),\n",
    ").set_index(\"code\")\n",
    "\n",
    "operators = pd.read_sql(\n",
    "    sql=select(\n",
    "        mapping_operator.c.operator_id,\n",
    "        mapping_operator.c.external_id,\n",
    "    ),\n",
    "    con=engine.connect(),\n",
    ").set_index(\"external_id\")"
   ]
  },
  {
   "cell_type": "code",
   "execution_count": 3,
   "id": "b2b0d9c6-3a89-4cfc-bed5-967528f4d1e7",
   "metadata": {},
   "outputs": [],
   "source": [
    "pipeline = Pipeline(\n",
    "    [\n",
    "        (\"csv_reader\", BookingDataReadCsv()),\n",
    "        (\"data_encoder\", BookingDataEncoder(hotels, rooms, meals, operators)),\n",
    "    ]\n",
    ")"
   ]
  },
  {
   "cell_type": "code",
   "execution_count": 4,
   "id": "a71ae923-b10a-4000-987f-4604759dc48f",
   "metadata": {},
   "outputs": [],
   "source": [
    "for destination in [\"OM\"]:\n",
    "    booking_data = BookingData(\n",
    "        destination, \"11/01/2023 00:00:00\", \"12/31/2026 00:00:00\"\n",
    "    )\n",
    "    get_bookings = booking_data.get()\n",
    "\n",
    "    if get_bookings is not None:\n",
    "        df = pipeline.fit_transform(get_bookings)"
   ]
  },
  {
   "cell_type": "code",
   "execution_count": 5,
   "id": "c6197b63-b5b5-435a-8c08-81548a69f7c9",
   "metadata": {},
   "outputs": [],
   "source": [
    "with Session(engine) as session:\n",
    "    stmt = delete(reservations_booking)\n",
    "    session.execute(stmt)\n",
    "    session.commit()\n",
    "\n",
    "\n",
    "with Session(engine) as session:\n",
    "    stmt = delete(reservations_booking_staging)\n",
    "    session.execute(stmt)\n",
    "    session.commit()"
   ]
  },
  {
   "cell_type": "code",
   "execution_count": 6,
   "id": "d6c2e0ea-590e-46fa-97fd-94a214e92d04",
   "metadata": {},
   "outputs": [],
   "source": [
    "# Drop all rows that are not Orascom Hotels\n",
    "orascom_hotels = [10001048, 10001106, 10001090, 10001020]\n",
    "df = df[df[\"hotel_id\"].isin(orascom_hotels)]\n",
    "\n",
    "if df is not None:\n",
    "    records = df.to_dict(orient=\"records\")\n",
    "\n",
    "    with Session(engine) as session:\n",
    "        for record in records:\n",
    "            try:\n",
    "                stmt = insert(reservations_booking).values(record)\n",
    "                session.execute(stmt)\n",
    "                session.commit()\n",
    "            except exc.IntegrityError as e:\n",
    "                session.rollback()\n",
    "                if isinstance(e.orig, UniqueViolation):\n",
    "                    record[\"flag\"] = \"amendment\"\n",
    "                elif isinstance(e.orig, ForeignKeyViolation):\n",
    "                    record[\"flag\"] = \"bad_mapping\"\n",
    "                    for field in [\"hotel_id\", \"room_id\", \"meal_id\", \"operator_id\"]:\n",
    "                        record[field] = record[field] if record[field] != -1 else None\n",
    "\n",
    "                stmt = (\n",
    "                    insert(reservations_booking_staging)\n",
    "                    .values(record)\n",
    "                    .on_conflict_do_update(\n",
    "                        constraint=\"reservations_booking_staging_ref_id_key\",\n",
    "                        set_=dict(stmt.excluded),\n",
    "                    )\n",
    "                )\n",
    "                session.execute(stmt)\n",
    "                session.commit()"
   ]
  },
  {
   "cell_type": "code",
   "execution_count": null,
   "id": "8a0ad22c-7276-4907-92e8-732179ccef51",
   "metadata": {},
   "outputs": [],
   "source": []
  }
 ],
 "metadata": {
  "kernelspec": {
   "display_name": "Python 3 (ipykernel)",
   "language": "python",
   "name": "python3"
  },
  "language_info": {
   "codemirror_mode": {
    "name": "ipython",
    "version": 3
   },
   "file_extension": ".py",
   "mimetype": "text/x-python",
   "name": "python",
   "nbconvert_exporter": "python",
   "pygments_lexer": "ipython3",
   "version": "3.11.4"
  }
 },
 "nbformat": 4,
 "nbformat_minor": 5
}
