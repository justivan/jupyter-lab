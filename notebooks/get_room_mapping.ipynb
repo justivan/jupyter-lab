{
 "cells": [
  {
   "cell_type": "code",
   "execution_count": 1,
   "id": "dc4b633f-a5b2-41af-8dae-b530e03e7c4b",
   "metadata": {},
   "outputs": [],
   "source": [
    "import io\n",
    "from pathlib import Path\n",
    "\n",
    "import pandas as pd\n",
    "from ssrs import RoomMapping"
   ]
  },
  {
   "cell_type": "code",
   "execution_count": 2,
   "id": "0c0db23f-ec66-42ca-b370-b306f5efc76c",
   "metadata": {},
   "outputs": [],
   "source": [
    "base_dir = Path(\".\").resolve()"
   ]
  },
  {
   "cell_type": "code",
   "execution_count": 3,
   "id": "ee947036-d559-49a2-a22d-3705c15cf2cc",
   "metadata": {},
   "outputs": [
    {
     "name": "stdout",
     "output_type": "stream",
     "text": [
      "200\n"
     ]
    }
   ],
   "source": [
    "room_mapping = RoomMapping(\"DU\", \"ALL 23-24\")\n",
    "get_rooms = room_mapping.get()"
   ]
  },
  {
   "cell_type": "code",
   "execution_count": 27,
   "id": "54db9993-d21c-4299-a566-da97c9972d32",
   "metadata": {},
   "outputs": [],
   "source": [
    "df = pd.read_csv(io.StringIO(get_rooms))\n",
    "df['HotelName'] = df['HotelName'].str.strip()\n",
    "df.drop(\n",
    "    [\"Meal_Supplements\", \"Notes\"], axis=1, inplace=True\n",
    ")"
   ]
  },
  {
   "cell_type": "code",
   "execution_count": 28,
   "id": "2f57cf3d-a592-4212-bec7-f921c3fdfb19",
   "metadata": {},
   "outputs": [],
   "source": [
    "from db import *"
   ]
  },
  {
   "cell_type": "code",
   "execution_count": 29,
   "id": "683097a2-2865-46f5-816b-7f80b018cea2",
   "metadata": {},
   "outputs": [],
   "source": [
    "mapping_hotel_df = pd.read_sql(sql=select(mapping_hotel), con=engine.connect())"
   ]
  },
  {
   "cell_type": "code",
   "execution_count": 30,
   "id": "e507fb89-a8c8-4468-a8b6-bc58a5cdabab",
   "metadata": {},
   "outputs": [
    {
     "data": {
      "text/html": [
       "<div>\n",
       "<style scoped>\n",
       "    .dataframe tbody tr th:only-of-type {\n",
       "        vertical-align: middle;\n",
       "    }\n",
       "\n",
       "    .dataframe tbody tr th {\n",
       "        vertical-align: top;\n",
       "    }\n",
       "\n",
       "    .dataframe thead th {\n",
       "        text-align: right;\n",
       "    }\n",
       "</style>\n",
       "<table border=\"1\" class=\"dataframe\">\n",
       "  <thead>\n",
       "    <tr style=\"text-align: right;\">\n",
       "      <th></th>\n",
       "      <th>id</th>\n",
       "      <th>hotel_name</th>\n",
       "      <th>is_charter</th>\n",
       "      <th>is_active</th>\n",
       "      <th>hotel_id</th>\n",
       "    </tr>\n",
       "  </thead>\n",
       "  <tbody>\n",
       "    <tr>\n",
       "      <th>0</th>\n",
       "      <td>90004</td>\n",
       "      <td>JUWEIRA HYDRO CHARTER 17-18</td>\n",
       "      <td>True</td>\n",
       "      <td>False</td>\n",
       "      <td>10001048</td>\n",
       "    </tr>\n",
       "    <tr>\n",
       "      <th>1</th>\n",
       "      <td>90012</td>\n",
       "      <td>CLUB ROTANA FISCHER</td>\n",
       "      <td>False</td>\n",
       "      <td>False</td>\n",
       "      <td>10001006</td>\n",
       "    </tr>\n",
       "    <tr>\n",
       "      <th>2</th>\n",
       "      <td>90013</td>\n",
       "      <td>FANAR HYDRO CHARTER 17-18</td>\n",
       "      <td>True</td>\n",
       "      <td>False</td>\n",
       "      <td>10001020</td>\n",
       "    </tr>\n",
       "    <tr>\n",
       "      <th>3</th>\n",
       "      <td>90016</td>\n",
       "      <td>FANAR KAPPA CLUB</td>\n",
       "      <td>False</td>\n",
       "      <td>False</td>\n",
       "      <td>10001020</td>\n",
       "    </tr>\n",
       "    <tr>\n",
       "      <th>4</th>\n",
       "      <td>90021</td>\n",
       "      <td>ROUNDTRIP CUSTOM PREF PARTIES</td>\n",
       "      <td>False</td>\n",
       "      <td>True</td>\n",
       "      <td>10001080</td>\n",
       "    </tr>\n",
       "  </tbody>\n",
       "</table>\n",
       "</div>"
      ],
      "text/plain": [
       "      id                     hotel_name  is_charter  is_active  hotel_id\n",
       "0  90004    JUWEIRA HYDRO CHARTER 17-18        True      False  10001048\n",
       "1  90012            CLUB ROTANA FISCHER       False      False  10001006\n",
       "2  90013      FANAR HYDRO CHARTER 17-18        True      False  10001020\n",
       "3  90016               FANAR KAPPA CLUB       False      False  10001020\n",
       "4  90021  ROUNDTRIP CUSTOM PREF PARTIES       False       True  10001080"
      ]
     },
     "execution_count": 30,
     "metadata": {},
     "output_type": "execute_result"
    }
   ],
   "source": [
    "mapping_hotel_df.head()"
   ]
  },
  {
   "cell_type": "code",
   "execution_count": 31,
   "id": "ae70bab4-e9ff-4ecf-b133-f0c6dada350b",
   "metadata": {},
   "outputs": [],
   "source": [
    "id_mapping = dict(zip(mapping_hotel_df[\"hotel_name\"], mapping_hotel_df[\"id\"]))"
   ]
  },
  {
   "cell_type": "code",
   "execution_count": 32,
   "id": "9ec0ea34-7dab-4584-95c0-d08064ead044",
   "metadata": {},
   "outputs": [],
   "source": [
    "df[\"test\"] = df[\"HotelName\"].map(id_mapping)"
   ]
  },
  {
   "cell_type": "code",
   "execution_count": 33,
   "id": "043ce8b1-9245-4faa-8fab-9dab84dcf1f9",
   "metadata": {},
   "outputs": [],
   "source": [
    "df.to_csv(\"output.csv\")"
   ]
  },
  {
   "cell_type": "code",
   "execution_count": 34,
   "id": "df20b6fa-725f-4c84-90c7-1abc2875b4ac",
   "metadata": {},
   "outputs": [
    {
     "data": {
      "text/plain": [
       "HotelName                  0\n",
       "Destination                0\n",
       "ContractID                 0\n",
       "OperatorName               0\n",
       "ContractSPO                0\n",
       "Guarantee                  0\n",
       "SingleSupplement           0\n",
       "SPOName                 7353\n",
       "SPOCode                 7353\n",
       "contractType               0\n",
       "Active                     0\n",
       "BeginDate                  0\n",
       "EndDate                    0\n",
       "ResStartDate               0\n",
       "ResStopDate                0\n",
       "PurchaseContractID      7353\n",
       "Purchase_Room_ID        7353\n",
       "RoomId2                    0\n",
       "RoomDescription            0\n",
       "RoomLocation               0\n",
       "RoomView                3586\n",
       "HotelRoomDescription       0\n",
       "MapRoomCode                0\n",
       "MapRoomCode2            2191\n",
       "FTIRoomCode                0\n",
       "BIGXRoomCode               0\n",
       "RoomAllotment              0\n",
       "AllotmentGuarantee         0\n",
       "PriceType                  0\n",
       "PerRoomCalcType           17\n",
       "MinRoomPrice               0\n",
       "MaxOccupancy               0\n",
       "MinOccupancy               0\n",
       "MaxAdl1                    0\n",
       "MinAdl                     0\n",
       "MaxChl                     0\n",
       "MinChl                     0\n",
       "AdultOnly1                 0\n",
       "InfantAllowed1             0\n",
       "MealPlan                   0\n",
       "test                     410\n",
       "dtype: int64"
      ]
     },
     "execution_count": 34,
     "metadata": {},
     "output_type": "execute_result"
    }
   ],
   "source": [
    "df.isna().sum()"
   ]
  },
  {
   "cell_type": "code",
   "execution_count": null,
   "id": "466dcebf-aa3f-4c6b-9c82-d5203f3ee898",
   "metadata": {},
   "outputs": [],
   "source": []
  },
  {
   "cell_type": "code",
   "execution_count": null,
   "id": "0c107d66-6f34-4cef-9171-de0735df7e02",
   "metadata": {},
   "outputs": [],
   "source": []
  }
 ],
 "metadata": {
  "kernelspec": {
   "display_name": "Python 3 (ipykernel)",
   "language": "python",
   "name": "python3"
  },
  "language_info": {
   "codemirror_mode": {
    "name": "ipython",
    "version": 3
   },
   "file_extension": ".py",
   "mimetype": "text/x-python",
   "name": "python",
   "nbconvert_exporter": "python",
   "pygments_lexer": "ipython3",
   "version": "3.11.4"
  }
 },
 "nbformat": 4,
 "nbformat_minor": 5
}
