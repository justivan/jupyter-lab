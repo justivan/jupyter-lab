{
 "cells": [
  {
   "cell_type": "code",
   "execution_count": 1,
   "id": "dc4b633f-a5b2-41af-8dae-b530e03e7c4b",
   "metadata": {},
   "outputs": [],
   "source": [
    "import io\n",
    "from pathlib import Path\n",
    "\n",
    "import pandas as pd\n",
    "from ssrs import RoomMapping"
   ]
  },
  {
   "cell_type": "code",
   "execution_count": 2,
   "id": "87ad837a-1000-44d8-93b8-cf35eaf2b105",
   "metadata": {},
   "outputs": [],
   "source": [
    "base_dir = Path(\".\").resolve()"
   ]
  },
  {
   "cell_type": "code",
   "execution_count": 3,
   "id": "4450ec96-4f54-4fbb-be78-ab99238ad071",
   "metadata": {},
   "outputs": [],
   "source": [
    "params = [(\"OM\", \"Y22-23\"), (\"OM\", \"Y23-24\"), (\"DU\", \"ALL 22-23\"), (\"DU\", \"ALL 23-24\")]"
   ]
  },
  {
   "cell_type": "code",
   "execution_count": 4,
   "id": "46a74d37-28ff-4553-8354-13721277be17",
   "metadata": {},
   "outputs": [],
   "source": [
    "dfs = []\n",
    "\n",
    "for destination, season in params:\n",
    "    room_mapping = RoomMapping(destination, season)\n",
    "    get_rooms = room_mapping.get()\n",
    "\n",
    "    df = pd.read_csv(io.StringIO(get_rooms))\n",
    "    df[\"HotelName\"] = df[\"HotelName\"].str.split().str.join(\" \")\n",
    "    df.drop([\"Meal_Supplements\", \"Notes\"], axis=1, inplace=True)\n",
    "\n",
    "    dfs.append(df)"
   ]
  },
  {
   "cell_type": "code",
   "execution_count": 5,
   "id": "18d73f58-9435-4808-aa88-ca82eec9c779",
   "metadata": {},
   "outputs": [],
   "source": [
    "room_mapping = pd.concat(dfs, axis=0, ignore_index=True)"
   ]
  },
  {
   "cell_type": "code",
   "execution_count": 6,
   "id": "4df5ce92-4a21-445c-b48e-35c5e7be6513",
   "metadata": {},
   "outputs": [
    {
     "data": {
      "text/html": [
       "<div>\n",
       "<style scoped>\n",
       "    .dataframe tbody tr th:only-of-type {\n",
       "        vertical-align: middle;\n",
       "    }\n",
       "\n",
       "    .dataframe tbody tr th {\n",
       "        vertical-align: top;\n",
       "    }\n",
       "\n",
       "    .dataframe thead th {\n",
       "        text-align: right;\n",
       "    }\n",
       "</style>\n",
       "<table border=\"1\" class=\"dataframe\">\n",
       "  <thead>\n",
       "    <tr style=\"text-align: right;\">\n",
       "      <th></th>\n",
       "      <th>HotelName</th>\n",
       "      <th>Destination</th>\n",
       "      <th>ContractID</th>\n",
       "      <th>OperatorName</th>\n",
       "      <th>ContractSPO</th>\n",
       "      <th>Guarantee</th>\n",
       "      <th>SingleSupplement</th>\n",
       "      <th>SPOName</th>\n",
       "      <th>SPOCode</th>\n",
       "      <th>contractType</th>\n",
       "      <th>...</th>\n",
       "      <th>MinRoomPrice</th>\n",
       "      <th>MaxOccupancy</th>\n",
       "      <th>MinOccupancy</th>\n",
       "      <th>MaxAdl1</th>\n",
       "      <th>MinAdl</th>\n",
       "      <th>MaxChl</th>\n",
       "      <th>MinChl</th>\n",
       "      <th>AdultOnly1</th>\n",
       "      <th>InfantAllowed1</th>\n",
       "      <th>MealPlan</th>\n",
       "    </tr>\n",
       "  </thead>\n",
       "  <tbody>\n",
       "    <tr>\n",
       "      <th>0</th>\n",
       "      <td>CROWNE PLAZA RESORT SALALAH</td>\n",
       "      <td>Salalah</td>\n",
       "      <td>30800</td>\n",
       "      <td>MEETING POINT OMAN</td>\n",
       "      <td>Main Contract</td>\n",
       "      <td>False</td>\n",
       "      <td>False</td>\n",
       "      <td>NaN</td>\n",
       "      <td>NaN</td>\n",
       "      <td>P</td>\n",
       "      <td>...</td>\n",
       "      <td>1</td>\n",
       "      <td>2</td>\n",
       "      <td>1</td>\n",
       "      <td>1</td>\n",
       "      <td>1</td>\n",
       "      <td>1</td>\n",
       "      <td>0</td>\n",
       "      <td>True</td>\n",
       "      <td>True</td>\n",
       "      <td>HB</td>\n",
       "    </tr>\n",
       "    <tr>\n",
       "      <th>1</th>\n",
       "      <td>CROWNE PLAZA RESORT SALALAH</td>\n",
       "      <td>Salalah</td>\n",
       "      <td>30800</td>\n",
       "      <td>MEETING POINT OMAN</td>\n",
       "      <td>Main Contract</td>\n",
       "      <td>False</td>\n",
       "      <td>False</td>\n",
       "      <td>NaN</td>\n",
       "      <td>NaN</td>\n",
       "      <td>P</td>\n",
       "      <td>...</td>\n",
       "      <td>2</td>\n",
       "      <td>4</td>\n",
       "      <td>2</td>\n",
       "      <td>2</td>\n",
       "      <td>2</td>\n",
       "      <td>2</td>\n",
       "      <td>0</td>\n",
       "      <td>True</td>\n",
       "      <td>True</td>\n",
       "      <td>HB</td>\n",
       "    </tr>\n",
       "    <tr>\n",
       "      <th>2</th>\n",
       "      <td>CROWNE PLAZA RESORT SALALAH</td>\n",
       "      <td>Salalah</td>\n",
       "      <td>30800</td>\n",
       "      <td>MEETING POINT OMAN</td>\n",
       "      <td>Main Contract</td>\n",
       "      <td>False</td>\n",
       "      <td>False</td>\n",
       "      <td>NaN</td>\n",
       "      <td>NaN</td>\n",
       "      <td>P</td>\n",
       "      <td>...</td>\n",
       "      <td>1</td>\n",
       "      <td>2</td>\n",
       "      <td>1</td>\n",
       "      <td>1</td>\n",
       "      <td>1</td>\n",
       "      <td>1</td>\n",
       "      <td>0</td>\n",
       "      <td>True</td>\n",
       "      <td>True</td>\n",
       "      <td>HB</td>\n",
       "    </tr>\n",
       "    <tr>\n",
       "      <th>3</th>\n",
       "      <td>CROWNE PLAZA RESORT SALALAH</td>\n",
       "      <td>Salalah</td>\n",
       "      <td>30800</td>\n",
       "      <td>MEETING POINT OMAN</td>\n",
       "      <td>Main Contract</td>\n",
       "      <td>False</td>\n",
       "      <td>False</td>\n",
       "      <td>NaN</td>\n",
       "      <td>NaN</td>\n",
       "      <td>P</td>\n",
       "      <td>...</td>\n",
       "      <td>2</td>\n",
       "      <td>4</td>\n",
       "      <td>2</td>\n",
       "      <td>3</td>\n",
       "      <td>2</td>\n",
       "      <td>2</td>\n",
       "      <td>0</td>\n",
       "      <td>True</td>\n",
       "      <td>True</td>\n",
       "      <td>HB</td>\n",
       "    </tr>\n",
       "    <tr>\n",
       "      <th>4</th>\n",
       "      <td>AL JABAL HOTEL SALALAH</td>\n",
       "      <td>Salalah</td>\n",
       "      <td>31143</td>\n",
       "      <td>MEETING POINT OMAN</td>\n",
       "      <td>Main Contract</td>\n",
       "      <td>False</td>\n",
       "      <td>False</td>\n",
       "      <td>NaN</td>\n",
       "      <td>NaN</td>\n",
       "      <td>P</td>\n",
       "      <td>...</td>\n",
       "      <td>1</td>\n",
       "      <td>1</td>\n",
       "      <td>1</td>\n",
       "      <td>1</td>\n",
       "      <td>1</td>\n",
       "      <td>0</td>\n",
       "      <td>0</td>\n",
       "      <td>True</td>\n",
       "      <td>False</td>\n",
       "      <td>BB</td>\n",
       "    </tr>\n",
       "  </tbody>\n",
       "</table>\n",
       "<p>5 rows × 40 columns</p>\n",
       "</div>"
      ],
      "text/plain": [
       "                     HotelName Destination  ContractID        OperatorName  \\\n",
       "0  CROWNE PLAZA RESORT SALALAH     Salalah       30800  MEETING POINT OMAN   \n",
       "1  CROWNE PLAZA RESORT SALALAH     Salalah       30800  MEETING POINT OMAN   \n",
       "2  CROWNE PLAZA RESORT SALALAH     Salalah       30800  MEETING POINT OMAN   \n",
       "3  CROWNE PLAZA RESORT SALALAH     Salalah       30800  MEETING POINT OMAN   \n",
       "4       AL JABAL HOTEL SALALAH     Salalah       31143  MEETING POINT OMAN   \n",
       "\n",
       "     ContractSPO  Guarantee  SingleSupplement  SPOName  SPOCode contractType  \\\n",
       "0  Main Contract      False             False      NaN      NaN            P   \n",
       "1  Main Contract      False             False      NaN      NaN            P   \n",
       "2  Main Contract      False             False      NaN      NaN            P   \n",
       "3  Main Contract      False             False      NaN      NaN            P   \n",
       "4  Main Contract      False             False      NaN      NaN            P   \n",
       "\n",
       "   ... MinRoomPrice MaxOccupancy MinOccupancy MaxAdl1 MinAdl  MaxChl  MinChl  \\\n",
       "0  ...            1            2            1       1      1       1       0   \n",
       "1  ...            2            4            2       2      2       2       0   \n",
       "2  ...            1            2            1       1      1       1       0   \n",
       "3  ...            2            4            2       3      2       2       0   \n",
       "4  ...            1            1            1       1      1       0       0   \n",
       "\n",
       "   AdultOnly1 InfantAllowed1 MealPlan  \n",
       "0        True           True       HB  \n",
       "1        True           True       HB  \n",
       "2        True           True       HB  \n",
       "3        True           True       HB  \n",
       "4        True          False       BB  \n",
       "\n",
       "[5 rows x 40 columns]"
      ]
     },
     "execution_count": 6,
     "metadata": {},
     "output_type": "execute_result"
    }
   ],
   "source": [
    "room_mapping.head()"
   ]
  },
  {
   "cell_type": "code",
   "execution_count": 7,
   "id": "4e31aced-f87b-4896-bce4-d05cc793ea38",
   "metadata": {
    "scrolled": true
   },
   "outputs": [
    {
     "data": {
      "text/plain": [
       "(25235, 40)"
      ]
     },
     "execution_count": 7,
     "metadata": {},
     "output_type": "execute_result"
    }
   ],
   "source": [
    "room_mapping.shape"
   ]
  },
  {
   "cell_type": "code",
   "execution_count": 8,
   "id": "c597dbfe-5bed-462d-99ec-78b5d4f7fa5c",
   "metadata": {},
   "outputs": [],
   "source": [
    "room_mapping.sort_values([\"HotelName\", \"MapRoomCode\", \"RoomId2\"], inplace=True)"
   ]
  },
  {
   "cell_type": "code",
   "execution_count": 9,
   "id": "17fde06a-7b4b-467d-b360-d1b232f51cc3",
   "metadata": {},
   "outputs": [],
   "source": [
    "room_mapping.to_csv(base_dir / \"data\" / \"room_mapping.csv\", index=False)"
   ]
  },
  {
   "cell_type": "code",
   "execution_count": null,
   "id": "7a521127-6b5b-4188-8552-4c10294bc59c",
   "metadata": {},
   "outputs": [],
   "source": []
  }
 ],
 "metadata": {
  "kernelspec": {
   "display_name": "Python 3 (ipykernel)",
   "language": "python",
   "name": "python3"
  },
  "language_info": {
   "codemirror_mode": {
    "name": "ipython",
    "version": 3
   },
   "file_extension": ".py",
   "mimetype": "text/x-python",
   "name": "python",
   "nbconvert_exporter": "python",
   "pygments_lexer": "ipython3",
   "version": "3.11.4"
  }
 },
 "nbformat": 4,
 "nbformat_minor": 5
}
