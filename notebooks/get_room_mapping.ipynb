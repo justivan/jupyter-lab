{
 "cells": [
  {
   "cell_type": "code",
   "execution_count": 1,
   "id": "dc4b633f-a5b2-41af-8dae-b530e03e7c4b",
   "metadata": {},
   "outputs": [],
   "source": [
    "import io\n",
    "from pathlib import Path\n",
    "\n",
    "import pandas as pd\n",
    "from ssrs import RoomMapping"
   ]
  },
  {
   "cell_type": "code",
   "execution_count": 2,
   "id": "87ad837a-1000-44d8-93b8-cf35eaf2b105",
   "metadata": {},
   "outputs": [],
   "source": [
    "base_dir = Path(\".\").resolve()"
   ]
  },
  {
   "cell_type": "code",
   "execution_count": 3,
   "id": "4450ec96-4f54-4fbb-be78-ab99238ad071",
   "metadata": {},
   "outputs": [],
   "source": [
    "params = [(\"OM\", \"Y22-23\"), (\"OM\", \"Y23-24\"), (\"DU\", \"ALL 22-23\"), (\"DU\", \"ALL 23-24\")]"
   ]
  },
  {
   "cell_type": "code",
   "execution_count": null,
   "id": "46a74d37-28ff-4553-8354-13721277be17",
   "metadata": {},
   "outputs": [],
   "source": [
    "dfs = []\n",
    "\n",
    "for destination, season in params:\n",
    "    room_mapping = RoomMapping(destination, season)\n",
    "    get_rooms = room_mapping.get()\n",
    "\n",
    "    df = pd.read_csv(io.StringIO(get_rooms))\n",
    "    df[\"HotelName\"] = df[\"HotelName\"].str.split().str.join(\" \")\n",
    "    df.drop([\"Meal_Supplements\", \"Notes\"], axis=1, inplace=True)\n",
    "\n",
    "    dfs.append(df)"
   ]
  },
  {
   "cell_type": "code",
   "execution_count": null,
   "id": "18d73f58-9435-4808-aa88-ca82eec9c779",
   "metadata": {},
   "outputs": [],
   "source": [
    "room_mapping = pd.concat(dfs, axis=0, ignore_index=True)"
   ]
  },
  {
   "cell_type": "code",
   "execution_count": null,
   "id": "4df5ce92-4a21-445c-b48e-35c5e7be6513",
   "metadata": {},
   "outputs": [],
   "source": [
    "room_mapping.head()"
   ]
  },
  {
   "cell_type": "code",
   "execution_count": null,
   "id": "4e31aced-f87b-4896-bce4-d05cc793ea38",
   "metadata": {
    "scrolled": true
   },
   "outputs": [],
   "source": [
    "room_mapping.shape"
   ]
  },
  {
   "cell_type": "code",
   "execution_count": null,
   "id": "c597dbfe-5bed-462d-99ec-78b5d4f7fa5c",
   "metadata": {},
   "outputs": [],
   "source": [
    "room_mapping.sort_values([\"HotelName\", \"MapRoomCode\", \"RoomId2\"], inplace=True)"
   ]
  },
  {
   "cell_type": "code",
   "execution_count": null,
   "id": "17fde06a-7b4b-467d-b360-d1b232f51cc3",
   "metadata": {},
   "outputs": [],
   "source": [
    "room_mapping.to_csv(base_dir / \"data\" / \"room_mapping_inactive.csv\", index=False)"
   ]
  },
  {
   "cell_type": "code",
   "execution_count": null,
   "id": "7a521127-6b5b-4188-8552-4c10294bc59c",
   "metadata": {},
   "outputs": [],
   "source": []
  }
 ],
 "metadata": {
  "kernelspec": {
   "display_name": "Python 3 (ipykernel)",
   "language": "python",
   "name": "python3"
  },
  "language_info": {
   "codemirror_mode": {
    "name": "ipython",
    "version": 3
   },
   "file_extension": ".py",
   "mimetype": "text/x-python",
   "name": "python",
   "nbconvert_exporter": "python",
   "pygments_lexer": "ipython3",
   "version": "3.11.4"
  }
 },
 "nbformat": 4,
 "nbformat_minor": 5
}
