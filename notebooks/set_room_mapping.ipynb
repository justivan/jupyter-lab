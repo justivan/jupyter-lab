{
 "cells": [
  {
   "cell_type": "code",
   "execution_count": 1,
   "id": "b748c507-0575-4c6c-b521-5e403f0d7791",
   "metadata": {
    "scrolled": true
   },
   "outputs": [
    {
     "name": "stderr",
     "output_type": "stream",
     "text": [
      "/home/jovyan/work/db.py:8: SAWarning: Did not recognize type 'geometry' of column 'geom'\n",
      "  mapping_hotel = Table(\n"
     ]
    }
   ],
   "source": [
    "from pathlib import Path\n",
    "\n",
    "import pandas as pd\n",
    "from db import *"
   ]
  },
  {
   "cell_type": "code",
   "execution_count": 2,
   "id": "66ab72c3-810e-4d35-9ad2-016c0d74f1ea",
   "metadata": {},
   "outputs": [],
   "source": [
    "base_dir = Path(\".\").resolve()"
   ]
  },
  {
   "cell_type": "code",
   "execution_count": 3,
   "id": "d135a07f-2133-4606-a993-38d509a5f542",
   "metadata": {},
   "outputs": [],
   "source": [
    "room_mapping = pd.read_csv(base_dir / \"data\" / \"room_mapping.csv\")"
   ]
  },
  {
   "cell_type": "code",
   "execution_count": 5,
   "id": "52b27668-4c56-453b-8b7a-1e861f59f972",
   "metadata": {},
   "outputs": [
    {
     "data": {
      "text/plain": [
       "(19654, 40)"
      ]
     },
     "execution_count": 5,
     "metadata": {},
     "output_type": "execute_result"
    }
   ],
   "source": [
    "room_mapping.shape"
   ]
  },
  {
   "cell_type": "code",
   "execution_count": null,
   "id": "b00b9a7e-15bd-4ff7-9cbe-b23e1f492a08",
   "metadata": {},
   "outputs": [],
   "source": [
    "hotel_mapping.head()"
   ]
  },
  {
   "cell_type": "code",
   "execution_count": null,
   "id": "33db882a-7c64-4082-89bb-cf50a8e75d8e",
   "metadata": {},
   "outputs": [],
   "source": [
    "id_mapping = dict(zip(hotel_mapping[\"hotel_name\"], hotel_mapping[\"hotel_id\"]))"
   ]
  },
  {
   "cell_type": "code",
   "execution_count": null,
   "id": "16681ac9-a433-4af8-9eb9-1e97ac2128b9",
   "metadata": {},
   "outputs": [],
   "source": [
    "room_mapping[\"hotel_id\"] = room_mapping[\"HotelName\"].map(id_mapping)"
   ]
  },
  {
   "cell_type": "code",
   "execution_count": null,
   "id": "cb202f1f-8c33-4a55-8a0e-648cd7147d75",
   "metadata": {},
   "outputs": [],
   "source": [
    "room_mapping.head()"
   ]
  },
  {
   "cell_type": "code",
   "execution_count": null,
   "id": "46da73d6-74c0-4680-99d2-fe77a8151d67",
   "metadata": {},
   "outputs": [],
   "source": [
    "room_mapping.drop_duplicates(\n",
    "    subset=[\"hotel_id\", \"MapRoomCode\"], keep=\"last\", inplace=True\n",
    ")"
   ]
  },
  {
   "cell_type": "code",
   "execution_count": null,
   "id": "bd021223-3bad-406c-84f4-e87b5681043d",
   "metadata": {},
   "outputs": [],
   "source": [
    "import re\n",
    "\n",
    "replacement_mapping = {\n",
    "    r\"Single Use\": \" \",\n",
    "    r\"Single\": \" \",\n",
    "    r\"Singe\": \" \",\n",
    "    r\"\\( \\)\": \" \",\n",
    "    r\"Twin Rm/\": \"Twin Room\",\n",
    "    r\"Bedrooms\": \"Bedroom\",\n",
    "    r\"01\": \"1\",\n",
    "    r\"02\": \"2\",\n",
    "    r\"03\": \"3\",\n",
    "}\n",
    "\n",
    "\n",
    "def replace_strings(s):\n",
    "    for pattern, replacement in replacement_mapping.items():\n",
    "        s = re.sub(pattern, replacement, s, flags=re.IGNORECASE)\n",
    "    return s.strip()\n",
    "\n",
    "\n",
    "room_mapping[\"HotelRoomDescription\"] = room_mapping[\"HotelRoomDescription\"].apply(\n",
    "    replace_strings\n",
    ")\n",
    "room_mapping[\"HotelRoomDescription\"] = (\n",
    "    room_mapping[\"HotelRoomDescription\"].str.split().str.join(\" \").str.title()\n",
    ")"
   ]
  },
  {
   "cell_type": "code",
   "execution_count": null,
   "id": "c48d0409-0710-415b-aa95-20199ff2d4b0",
   "metadata": {},
   "outputs": [],
   "source": [
    "room_mapping_unique = (\n",
    "    room_mapping.groupby([\"HotelRoomDescription\", \"hotel_id\"]).size().reset_index()\n",
    ")\n",
    "room_mapping_unique.sort_values([\"hotel_id\", \"HotelRoomDescription\"], inplace=True)\n",
    "room_mapping_unique.to_csv(\"room_mapping_unique.csv\", index=False)"
   ]
  },
  {
   "cell_type": "code",
   "execution_count": null,
   "id": "e60fca28-08aa-4da8-aa25-ba29d322c139",
   "metadata": {},
   "outputs": [],
   "source": [
    "room_mapping.to_csv(\"room_mapping.csv\", index=False)"
   ]
  },
  {
   "cell_type": "code",
   "execution_count": null,
   "id": "f4528bd5-0da0-4625-a20e-d7ab238eb6d6",
   "metadata": {},
   "outputs": [],
   "source": [
    "room_mapping_unique.to_csv(\"room_mapping_unique.csv\", index=False)"
   ]
  },
  {
   "cell_type": "code",
   "execution_count": null,
   "id": "354bfaa7-f9c2-4e34-8fbe-947ffc789f51",
   "metadata": {},
   "outputs": [],
   "source": [
    "import json\n",
    "\n",
    "output = []\n",
    "\n",
    "for _, row in room_mapping_unique.iterrows():\n",
    "    hotel_room_dict = {\n",
    "        \"model\": \"accommodation.hotelroom\",\n",
    "        \"fields\": {\n",
    "            \"hotel\": row[\"hotel_id\"],\n",
    "            \"name\": row[\"HotelRoomDescription\"],\n",
    "        },\n",
    "    }\n",
    "    output.append(hotel_room_dict)\n",
    "\n",
    "output_json = json.dumps(output, indent=2, default=str)\n",
    "\n",
    "with open(base_dir / \"fixtures\" / \"hotelroom.json\", \"w\") as f:\n",
    "    f.write(output_json)"
   ]
  },
  {
   "cell_type": "code",
   "execution_count": null,
   "id": "869a4c68-2353-4f18-a865-0d5b897f06c8",
   "metadata": {},
   "outputs": [],
   "source": [
    "accommodation_hotel_room = pd.read_sql(\n",
    "    sql=select(accommodation_hotel_room), con=engine.connect()\n",
    ")"
   ]
  },
  {
   "cell_type": "code",
   "execution_count": null,
   "id": "5947b120-b69a-4a2a-894a-300063765f05",
   "metadata": {},
   "outputs": [],
   "source": [
    "accommodation_hotel_room.head()"
   ]
  },
  {
   "cell_type": "code",
   "execution_count": null,
   "id": "2fdf51c3-b81e-427c-91eb-1dab1e403dc5",
   "metadata": {},
   "outputs": [],
   "source": [
    "id_mapping = dict(\n",
    "    zip(\n",
    "        accommodation_hotel_room.apply(lambda x: (x[\"name\"], x[\"hotel_id\"]), axis=1),\n",
    "        accommodation_hotel_room[\"id\"],\n",
    "    )\n",
    ")"
   ]
  },
  {
   "cell_type": "code",
   "execution_count": null,
   "id": "80f16018-df25-4693-8ba5-d0c5c999fe5c",
   "metadata": {},
   "outputs": [],
   "source": [
    "room_mapping[\"room_id\"] = room_mapping.apply(\n",
    "    lambda x: id_mapping.get(\n",
    "        (\n",
    "            x[\"HotelRoomDescription\"],\n",
    "            x[\"hotel_id\"],\n",
    "        )\n",
    "    ),\n",
    "    axis=1,\n",
    ")"
   ]
  },
  {
   "cell_type": "code",
   "execution_count": null,
   "id": "503292d3-ced8-41ef-ac77-263cbeb02bc7",
   "metadata": {},
   "outputs": [],
   "source": [
    "room_mapping.dropna(subset=[\"hotel_id\", \"room_id\"], inplace=True)\n",
    "room_mapping[\"room_type\"] = room_mapping[\"RoomDescription\"].str.cat(\n",
    "    room_mapping[\"RoomView\"].fillna(\"\"), sep=\" \"\n",
    ")"
   ]
  },
  {
   "cell_type": "code",
   "execution_count": null,
   "id": "a2dc019b-a0f3-4de9-95fc-266d8c29f193",
   "metadata": {},
   "outputs": [],
   "source": [
    "output = []\n",
    "\n",
    "for _, row in room_mapping.iterrows():\n",
    "    hotel_room_mapping_dict = {\n",
    "        \"model\": \"mapping.hotelroommapping\",\n",
    "        \"fields\": {\n",
    "            \"hotel_room\": row[\"room_id\"],\n",
    "            \"room_type\": row[\"room_type\"],\n",
    "            \"room_code\": row[\"MapRoomCode\"],\n",
    "        },\n",
    "    }\n",
    "    output.append(hotel_room_mapping_dict)\n",
    "\n",
    "output_json = json.dumps(output, indent=2, default=str)\n",
    "\n",
    "with open(\"fixtures/hotelroommapping.json\", \"w\") as f:\n",
    "    f.write(output_json)"
   ]
  },
  {
   "cell_type": "code",
   "execution_count": null,
   "id": "e780b317-8668-454e-9a5b-0bfd22b10ff2",
   "metadata": {},
   "outputs": [],
   "source": [
    "room_mapping.to_csv(\"room_mapping.csv\", index=False)"
   ]
  },
  {
   "cell_type": "code",
   "execution_count": null,
   "id": "7c600030-9d65-4110-9dbd-93f170f299c8",
   "metadata": {},
   "outputs": [],
   "source": []
  }
 ],
 "metadata": {
  "kernelspec": {
   "display_name": "Python 3 (ipykernel)",
   "language": "python",
   "name": "python3"
  },
  "language_info": {
   "codemirror_mode": {
    "name": "ipython",
    "version": 3
   },
   "file_extension": ".py",
   "mimetype": "text/x-python",
   "name": "python",
   "nbconvert_exporter": "python",
   "pygments_lexer": "ipython3",
   "version": "3.11.4"
  }
 },
 "nbformat": 4,
 "nbformat_minor": 5
}
