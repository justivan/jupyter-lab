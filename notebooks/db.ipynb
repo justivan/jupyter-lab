{
 "cells": [
  {
   "cell_type": "code",
   "execution_count": 1,
   "id": "bbe927d8-92a5-4662-9543-2c5e899da1fd",
   "metadata": {},
   "outputs": [],
   "source": [
    "from config import Config\n",
    "from sqlalchemy import MetaData, Table, and_, create_engine, or_, select\n",
    "from sqlalchemy.orm import Session\n",
    "\n",
    "engine = create_engine(Config.DATABASE_URI)\n",
    "metadata = MetaData()"
   ]
  },
  {
   "cell_type": "code",
   "execution_count": 4,
   "id": "fdc17fd1-7357-4688-a5bd-f71d2f792dba",
   "metadata": {},
   "outputs": [],
   "source": [
    "mapping_hotel = Table(\n",
    "    \"mapping_hotel\",\n",
    "    metadata,\n",
    "    autoload_with=engine,\n",
    ")\n",
    "\n"
   ]
  },
  {
   "cell_type": "code",
   "execution_count": null,
   "id": "4f48c6a4-65d8-42a1-af4b-0fc3dd45c155",
   "metadata": {},
   "outputs": [],
   "source": []
  }
 ],
 "metadata": {
  "kernelspec": {
   "display_name": "Python 3 (ipykernel)",
   "language": "python",
   "name": "python3"
  },
  "language_info": {
   "codemirror_mode": {
    "name": "ipython",
    "version": 3
   },
   "file_extension": ".py",
   "mimetype": "text/x-python",
   "name": "python",
   "nbconvert_exporter": "python",
   "pygments_lexer": "ipython3",
   "version": "3.11.4"
  }
 },
 "nbformat": 4,
 "nbformat_minor": 5
}
