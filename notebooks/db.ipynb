{
 "cells": [
  {
   "cell_type": "code",
   "execution_count": 1,
   "id": "bbe927d8-92a5-4662-9543-2c5e899da1fd",
   "metadata": {},
   "outputs": [],
   "source": [
    "from config import Config\n",
    "from sqlalchemy import MetaData, Table, and_, create_engine, or_, select\n",
    "from sqlalchemy.orm import Session\n",
    "\n",
    "engine = create_engine(Config.DATABASE_URI)\n",
    "metadata = MetaData()"
   ]
  },
  {
   "cell_type": "code",
   "execution_count": 2,
   "id": "fdc17fd1-7357-4688-a5bd-f71d2f792dba",
   "metadata": {},
   "outputs": [
    {
     "name": "stderr",
     "output_type": "stream",
     "text": [
      "/tmp/ipykernel_1109/432446670.py:1: SAWarning: Did not recognize type 'geometry' of column 'geom'\n",
      "  mapping_hotel = Table(\n"
     ]
    }
   ],
   "source": [
    "mapping_hotel = Table(\n",
    "    \"mapping_hotel\",\n",
    "    metadata,\n",
    "    autoload_with=engine,\n",
    ")"
   ]
  },
  {
   "cell_type": "code",
   "execution_count": 3,
   "id": "f0b121dd-fe2d-4362-8983-0b80b20af845",
   "metadata": {},
   "outputs": [
    {
     "ename": "NameError",
     "evalue": "name 'pd' is not defined",
     "output_type": "error",
     "traceback": [
      "\u001b[0;31m---------------------------------------------------------------------------\u001b[0m",
      "\u001b[0;31mNameError\u001b[0m                                 Traceback (most recent call last)",
      "Cell \u001b[0;32mIn[3], line 1\u001b[0m\n\u001b[0;32m----> 1\u001b[0m hotel_mapping \u001b[38;5;241m=\u001b[39m \u001b[43mpd\u001b[49m\u001b[38;5;241m.\u001b[39mread_sql(sql\u001b[38;5;241m=\u001b[39mselect(mapping_hotel), con\u001b[38;5;241m=\u001b[39mengine\u001b[38;5;241m.\u001b[39mconnect())\n",
      "\u001b[0;31mNameError\u001b[0m: name 'pd' is not defined"
     ]
    }
   ],
   "source": [
    "import pandas as pd\n",
    "hotel_mapping = pd.read_sql(sql=select(mapping_hotel), con=engine.connect())"
   ]
  },
  {
   "cell_type": "code",
   "execution_count": null,
   "id": "1189493c-0bf7-40f9-bb36-ece2b50a351b",
   "metadata": {},
   "outputs": [],
   "source": []
  }
 ],
 "metadata": {
  "kernelspec": {
   "display_name": "Python 3 (ipykernel)",
   "language": "python",
   "name": "python3"
  },
  "language_info": {
   "codemirror_mode": {
    "name": "ipython",
    "version": 3
   },
   "file_extension": ".py",
   "mimetype": "text/x-python",
   "name": "python",
   "nbconvert_exporter": "python",
   "pygments_lexer": "ipython3",
   "version": "3.11.4"
  }
 },
 "nbformat": 4,
 "nbformat_minor": 5
}
